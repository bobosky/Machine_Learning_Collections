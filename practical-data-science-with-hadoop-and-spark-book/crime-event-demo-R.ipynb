{
 "cells": [
  {
   "cell_type": "markdown",
   "metadata": {
    "collapsed": false
   },
   "source": [
    "# Data Science Demo: predicting Crime resolution in San Francisco "
   ]
  },
  {
   "cell_type": "markdown",
   "metadata": {},
   "source": [
    "The City of San Francisco publishes historical crime events on their http://sfdata.gov website. \n",
    "\n",
    "I have loaded this dataset into HIVE. Let's use Spark to do some fun stuff with it!"
   ]
  },
  {
   "cell_type": "markdown",
   "metadata": {},
   "source": [
    "## Setting Up SparkR"
   ]
  },
  {
   "cell_type": "markdown",
   "metadata": {},
   "source": [
    "First we setup SparkR, create a SparkContext as well as a HiveContext to access data from Hive:"
   ]
  },
  {
   "cell_type": "code",
   "execution_count": 1,
   "metadata": {
    "collapsed": false
   },
   "outputs": [
    {
     "name": "stderr",
     "output_type": "stream",
     "text": [
      "\n",
      "Attaching package: ‘SparkR’\n",
      "\n",
      "The following objects are masked from ‘package:stats’:\n",
      "\n",
      "    cov, filter, lag, na.omit, predict, sd, var\n",
      "\n",
      "The following objects are masked from ‘package:base’:\n",
      "\n",
      "    colnames, colnames<-, intersect, rank, rbind, sample, subset,\n",
      "    summary, table, transform\n",
      "\n",
      "Loading required package: ggplot2\n"
     ]
    }
   ],
   "source": [
    ".libPaths(c(file.path(Sys.getenv('SPARK_HOME'), 'R', 'lib'), .libPaths()))\n",
    "\n",
    "library(SparkR)\n",
    "require(ggplot2)"
   ]
  },
  {
   "cell_type": "code",
   "execution_count": 2,
   "metadata": {
    "collapsed": false
   },
   "outputs": [
    {
     "name": "stdout",
     "output_type": "stream",
     "text": [
      "Launching java with spark-submit command /usr/hdp/2.3.4.1-10/spark///bin/spark-submit   sparkr-shell /tmp/RtmpgS9r78/backend_port71f962c08568 \n"
     ]
    },
    {
     "data": {
      "text/plain": [
       "DataFrame[result:string]"
      ]
     },
     "execution_count": 2,
     "metadata": {},
     "output_type": "execute_result"
    }
   ],
   "source": [
    "# Create Spark Context\n",
    "sc = sparkR.init(master=\"yarn-client\", appName=\"SparkR Demo\",\n",
    "                 sparkEnvir = list(spark.executor.memory=\"4g\", spark.executor.instances=\"15\"))\n",
    "\n",
    "# Create HiveContext\n",
    "hc = sparkRHive.init(sc)\n",
    "sql(hc, \"use demo\")"
   ]
  },
  {
   "cell_type": "markdown",
   "metadata": {
    "collapsed": false
   },
   "source": [
    "Let's take a look at the dataset - first 5 rows:"
   ]
  },
  {
   "cell_type": "code",
   "execution_count": 3,
   "metadata": {
    "collapsed": false
   },
   "outputs": [
    {
     "data": {
      "text/plain": [
       "  incidentid       category                  description dayofweek   date_str\n",
       "1  150331521  LARCENY/THEFT  GRAND THEFT FROM A BUILDING Wednesday 04/22/2015\n",
       "2  150341605        ASSAULT     ATTEMPTED SIMPLE ASSAULT    Sunday 04/19/2015\n",
       "3  150341605        ASSAULT         THREATS AGAINST LIFE    Sunday 04/19/2015\n",
       "4  150341605 OTHER OFFENSES           CRUELTY TO ANIMALS    Sunday 04/19/2015\n",
       "5  150341702   NON-CRIMINAL AIDED CASE, MENTAL DISTURBED    Sunday 04/19/2015\n",
       "   time district            resolution                         address\n",
       "1 18:00  BAYVIEW                  NONE          2000 Block of EVANS AV\n",
       "2 12:15  CENTRAL                  NONE      800 Block of WASHINGTON ST\n",
       "3 12:15  CENTRAL                  NONE      800 Block of WASHINGTON ST\n",
       "4 12:15  CENTRAL                  NONE      800 Block of WASHINGTON ST\n",
       "5 12:03  MISSION EXCEPTIONAL CLEARANCE 1100 Block of SOUTH VAN NESS AV\n",
       "          longitude         latitude                              location\n",
       "1 -122.396315619126 37.7478113603031 (37.7478113603031, -122.396315619126)\n",
       "2  -122.40672716771 37.7950566945259  (37.7950566945259, -122.40672716771)\n",
       "3  -122.40672716771 37.7950566945259  (37.7950566945259, -122.40672716771)\n",
       "4  -122.40672716771 37.7950566945259  (37.7950566945259, -122.40672716771)\n",
       "5 -122.416557578218 37.7547485110398 (37.7547485110398, -122.416557578218)\n",
       "            pdid\n",
       "1 15033152106304\n",
       "2 15034160504114\n",
       "3 15034160519057\n",
       "4 15034160528010\n",
       "5 15034170264020"
      ]
     },
     "execution_count": 3,
     "metadata": {},
     "output_type": "execute_result"
    }
   ],
   "source": [
    "crimes = table(hc, \"crimes\")\n",
    "df = head(crimes, 5)\n",
    "df"
   ]
  },
  {
   "cell_type": "markdown",
   "metadata": {},
   "source": [
    "## Exploring the Dataset"
   ]
  },
  {
   "cell_type": "markdown",
   "metadata": {},
   "source": [
    "What are the different types of crime resolutions?"
   ]
  },
  {
   "cell_type": "code",
   "execution_count": 4,
   "metadata": {
    "collapsed": false
   },
   "outputs": [
    {
     "name": "stdout",
     "output_type": "stream",
     "text": [
      "+--------------------+\n",
      "|          resolution|\n",
      "+--------------------+\n",
      "|             LOCATED|\n",
      "|   JUVENILE DIVERTED|\n",
      "|       ARREST, CITED|\n",
      "|      NOT PROSECUTED|\n",
      "|COMPLAINANT REFUS...|\n",
      "|CLEARED-CONTACT J...|\n",
      "|      JUVENILE CITED|\n",
      "|PROSECUTED FOR LE...|\n",
      "|EXCEPTIONAL CLEAR...|\n",
      "|     JUVENILE BOOKED|\n",
      "|           UNFOUNDED|\n",
      "|   PSYCHOPATHIC CASE|\n",
      "| JUVENILE ADMONISHED|\n",
      "|DISTRICT ATTORNEY...|\n",
      "|PROSECUTED BY OUT...|\n",
      "|      ARREST, BOOKED|\n",
      "|                NONE|\n",
      "+--------------------+\n"
     ]
    }
   ],
   "source": [
    "showDF(distinct(select(crimes, \"resolution\"))) "
   ]
  },
  {
   "cell_type": "markdown",
   "metadata": {},
   "source": [
    "Let's define a crime as 'resolved' if it has any string except \"NONE\" in the resolution column.\n",
    "\n",
    "**Question**: How many crimes total in the dataset? How many resolved?"
   ]
  },
  {
   "cell_type": "code",
   "execution_count": 5,
   "metadata": {
    "collapsed": false
   },
   "outputs": [
    {
     "name": "stdout",
     "output_type": "stream",
     "text": [
      "[1] \"1750133 crimes total, out of which 700088 were resolved\"\n"
     ]
    }
   ],
   "source": [
    "total = count(crimes)\n",
    "num_resolved = count(filter(crimes, crimes$resolution != 'NONE'))\n",
    "print(paste0(total, \" crimes total, out of which \", num_resolved, \" were resolved\"))"
   ]
  },
  {
   "cell_type": "markdown",
   "metadata": {},
   "source": [
    "Let's look at the longitude/latitude values in more detail. Spark provides the describe() function to see this some basic statistics of these columns:"
   ]
  },
  {
   "cell_type": "code",
   "execution_count": 6,
   "metadata": {
    "collapsed": false
   },
   "outputs": [
    {
     "name": "stdout",
     "output_type": "stream",
     "text": [
      "+-------+-------------------+-------------------+\n",
      "|summary|               long|                lat|\n",
      "+-------+-------------------+-------------------+\n",
      "|  count|            1750133|            1750133|\n",
      "|   mean|-122.42263853403858| 37.771270995453996|\n",
      "| stddev|0.03069515078034428|0.47274630631731845|\n",
      "|    min|         -122.51364|           37.70788|\n",
      "|    max|             -120.5|               90.0|\n",
      "+-------+-------------------+-------------------+\n"
     ]
    }
   ],
   "source": [
    "c1 = select(crimes, alias(cast(crimes$longitude, \"float\"), \"long\"), \n",
    "                    alias(cast(crimes$latitude, \"float\"), \"lat\")) \n",
    "showDF(describe(c1))"
   ]
  },
  {
   "cell_type": "markdown",
   "metadata": {},
   "source": [
    "Notice that the max values for longitude (-120.5) and latitude (90.0) seem strange. Those are not inside the SF area. Let's see how many bad values like this exist in the dataset: "
   ]
  },
  {
   "cell_type": "code",
   "execution_count": 7,
   "metadata": {
    "collapsed": false
   },
   "outputs": [
    {
     "name": "stdout",
     "output_type": "stream",
     "text": [
      "[1] 143\n",
      "+------+----+\n",
      "|  long| lat|\n",
      "+------+----+\n",
      "|-120.5|90.0|\n",
      "|-120.5|90.0|\n",
      "|-120.5|90.0|\n",
      "+------+----+\n"
     ]
    }
   ],
   "source": [
    "c2 = filter(c1, \"lat < 37 or lat > 38\")\n",
    "print(count(c2))\n",
    "showDF(limit(c2,3))\n"
   ]
  },
  {
   "cell_type": "markdown",
   "metadata": {},
   "source": [
    "Seems like this is a data quality issue where some data points just have a fixed (bad) value of -120.5, 90."
   ]
  },
  {
   "cell_type": "markdown",
   "metadata": {},
   "source": [
    "## Computing Neighborhoods\n",
    "\n",
    "Now I create a new dataset called crimes2:\n",
    "1. Without the points that have invalid longitude/latitude\n",
    "2. I calculate the neighborhood associated with each long/lat (for each crime), using ESRI geo-spatial UDFs\n",
    "3. Translate \"resolution\" to \"resolved\" (1.0 = resolved, 0.0 = unresolved)"
   ]
  },
  {
   "cell_type": "code",
   "execution_count": 8,
   "metadata": {
    "collapsed": false
   },
   "outputs": [
    {
     "data": {
      "text/plain": [
       "DataFrame[result:int]"
      ]
     },
     "execution_count": 8,
     "metadata": {},
     "output_type": "execute_result"
    },
    {
     "data": {
      "text/plain": [
       "DataFrame[result:int]"
      ]
     },
     "execution_count": 8,
     "metadata": {},
     "output_type": "execute_result"
    },
    {
     "data": {
      "text/plain": [
       "DataFrame[result:int]"
      ]
     },
     "execution_count": 8,
     "metadata": {},
     "output_type": "execute_result"
    },
    {
     "data": {
      "text/plain": [
       "DataFrame[result:int]"
      ]
     },
     "execution_count": 8,
     "metadata": {},
     "output_type": "execute_result"
    },
    {
     "data": {
      "text/plain": [
       "DataFrame[result:string]"
      ]
     },
     "execution_count": 8,
     "metadata": {},
     "output_type": "execute_result"
    },
    {
     "data": {
      "text/plain": [
       "DataFrame[result:string]"
      ]
     },
     "execution_count": 8,
     "metadata": {},
     "output_type": "execute_result"
    }
   ],
   "source": [
    "sql(hc, \"add jar /home/jupyter/notebooks/jars/guava-11.0.2.jar\")\n",
    "sql(hc, \"add jar /home/jupyter/notebooks/jars/spatial-sdk-json.jar\")\n",
    "sql(hc, \"add jar /home/jupyter/notebooks/jars/esri-geometry-api.jar\")\n",
    "sql(hc, \"add jar /home/jupyter/notebooks/jars/spatial-sdk-hive.jar\")\n",
    "\n",
    "sql(hc, \"create temporary function ST_Contains as 'com.esri.hadoop.hive.ST_Contains'\")\n",
    "sql(hc, \"create temporary function ST_Point as 'com.esri.hadoop.hive.ST_Point'\")\n",
    "\n",
    "cf1 = sql(hc, \n",
    "\"SELECT  date_str, time, longitude, latitude, resolution, category, district, dayofweek, description\n",
    " FROM crimes\n",
    " WHERE longitude < -121.0 and latitude < 38.0\")\n",
    "cf2 = repartition(cf1, 50)\n",
    "registerTempTable(cf2, \"cf\")\n",
    "\n",
    "crimes2 = sql(hc, \n",
    "\"SELECT date_str, time, dayofweek, category, district, description, longitude, latitude,\n",
    "        if (resolution == 'NONE',0.0,1.0) as resolved,\n",
    "        neighborho as neighborhood \n",
    " FROM sf_neighborhoods JOIN cf\n",
    " WHERE ST_Contains(sf_neighborhoods.shape, ST_Point(cf.longitude, cf.latitude))\")\n",
    "\n",
    "# cache(crimes2)\n",
    "registerTempTable(crimes2, \"crimes2\")"
   ]
  },
  {
   "cell_type": "code",
   "execution_count": 9,
   "metadata": {
    "collapsed": false
   },
   "outputs": [
    {
     "name": "stdout",
     "output_type": "stream",
     "text": [
      "+----------+-----+---------+-------------+--------+--------------------+-----------------+----------------+--------+------------+\n",
      "|  date_str| time|dayofweek|     category|district|         description|        longitude|        latitude|resolved|neighborhood|\n",
      "+----------+-----+---------+-------------+--------+--------------------+-----------------+----------------+--------+------------+\n",
      "|02/26/2015|16:30| Thursday| NON-CRIMINAL|RICHMOND|      FOUND PROPERTY|-122.507892223803|37.7807186482924|     0.0|    Seacliff|\n",
      "|02/24/2015|10:00|  Tuesday|LARCENY/THEFT|RICHMOND|LICENSE PLATE OR ...| -122.50706596541|37.7807037558799|     0.0|    Seacliff|\n",
      "|01/02/2015|18:40|   Friday|LARCENY/THEFT|RICHMOND|GRAND THEFT FROM ...|-122.511298876781|37.7759977595559|     0.0|    Seacliff|\n",
      "|08/18/2014|08:30|   Monday|LARCENY/THEFT|RICHMOND|PETTY THEFT OF PR...|-122.508907927108|37.7807278478539|     0.0|    Seacliff|\n",
      "|04/13/2014|15:00|   Sunday|LARCENY/THEFT|RICHMOND|GRAND THEFT FROM ...|-122.513642064265|37.7784692199467|     0.0|    Seacliff|\n",
      "+----------+-----+---------+-------------+--------+--------------------+-----------------+----------------+--------+------------+\n"
     ]
    }
   ],
   "source": [
    "showDF(limit(crimes2, 5))"
   ]
  },
  {
   "cell_type": "markdown",
   "metadata": {},
   "source": [
    "**Question:** what is the percentage of crimes resolved in each neighborhood?"
   ]
  },
  {
   "cell_type": "code",
   "execution_count": 10,
   "metadata": {
    "collapsed": false
   },
   "outputs": [
    {
     "data": {
      "text/plain": [
       "            neighborhood      pres  count\n",
       "1  Downtown/Civic Center 0.5718149 285122\n",
       "2                Mission 0.5021143 190606\n",
       "3                Bayview 0.4725739 119412\n",
       "4         Haight Ashbury 0.4458685  41898\n",
       "5       Golden Gate Park 0.4154171  15606\n",
       "6        South of Market 0.3928699 241230\n",
       "7             Ocean View 0.3848783  30724\n",
       "8         Bernal Heights 0.3728814  38881\n",
       "9              Excelsior 0.3717961  40810\n",
       "10         Outer Mission 0.3685316  37123"
      ]
     },
     "execution_count": 10,
     "metadata": {},
     "output_type": "execute_result"
    }
   ],
   "source": [
    "ngrp = groupBy(crimes2, \"neighborhood\")\n",
    "df = summarize(ngrp, pres = avg(crimes2$resolved), count = n(crimes2$resolved))\n",
    "df_sorted = arrange(df, desc(df$pres))\n",
    "head(df_sorted, 10)"
   ]
  },
  {
   "cell_type": "code",
   "execution_count": 11,
   "metadata": {
    "collapsed": false
   },
   "outputs": [
    {
     "data": {
      "text/plain": []
     },
     "execution_count": 11,
     "metadata": {},
     "output_type": "execute_result"
    },
    {
     "data": {
      "image/png": "[encoded data removed]"
     },
     "metadata": {},
     "output_type": "display_data"
    }
   ],
   "source": [
    "ggplot(data=take(df_sorted, 10), aes(x=neighborhood, y=pres)) + \n",
    "       geom_bar(colour=\"black\", stat=\"identity\", fill=\"#DD8888\") + guides(fill=FALSE) +\n",
    "       theme(axis.text.x = element_text(angle = 90, hjust = 1))"
   ]
  },
  {
   "cell_type": "code",
   "execution_count": 12,
   "metadata": {
    "collapsed": true
   },
   "outputs": [],
   "source": [
    "dfl = collect(df)"
   ]
  },
  {
   "cell_type": "markdown",
   "metadata": {},
   "source": [
    "Using the R leaflet package I draw an interactive map of San Francisco, and color-code each neighborhood with the percent of resolved crimes:"
   ]
  },
  {
   "cell_type": "code",
   "execution_count": 13,
   "metadata": {
    "collapsed": false
   },
   "outputs": [
    {
     "name": "stderr",
     "output_type": "stream",
     "text": [
      "Loading required package: leaflet\n",
      "Loading required package: htmlwidgets\n"
     ]
    },
    {
     "data": {
      "text/html": [
       "<iframe src='map1.html' width=950 height=600></iframe>"
      ]
     },
     "metadata": {},
     "output_type": "display_data"
    }
   ],
   "source": [
    "require(leaflet)\n",
    "require(htmlwidgets)\n",
    "library(IRdisplay)\n",
    "library(jsonlite)\n",
    "\n",
    "sf_lat = 37.77\n",
    "sf_long = -122.4\n",
    "\n",
    "geojson <- readLines(\"data/sfn.geojson\") %>% paste(collapse = \"\\n\") %>% fromJSON(simplifyVector = FALSE)\n",
    "\n",
    "pal <- colorQuantile(\"OrRd\", dfl$pres, n=7)\n",
    "geojson$features <- lapply(geojson$features, function(feat) {\n",
    "      feat$properties$style <- list(fillColor = pal(dfl[dfl$neighborhood==feat$properties$neighborho, \"pres\"]))\n",
    "      feat\n",
    "})\n",
    "\n",
    "m <- leaflet() %>%\n",
    "     setView(lng = sf_long, lat = sf_lat, zoom = 12) %>%\n",
    "     addTiles() %>%\n",
    "     addGeoJSON(geojson, weight = 1.5, color = \"#444444\", opacity = 1, fillOpacity = 0.3) %>%\n",
    "     addLegend(\"topright\", pal = pal, values = dfl$pres, title = \"P(resolved)\", opacity = 1)\n",
    "\n",
    "tf = 'map1.html'\n",
    "saveWidget(m, file = tf, selfcontained = T)\n",
    "display_html(paste0(\"<iframe src='\", tf, \"' width=950 height=600></iframe>\"))"
   ]
  },
  {
   "cell_type": "code",
   "execution_count": 14,
   "metadata": {
    "collapsed": false,
    "scrolled": false
   },
   "outputs": [
    {
     "data": {
      "text/plain": [
       "DataFrame[year:int, month:int, hour:int, resolved:double, category:string, district:string, dayofweek:string, description:string, neighborhood:string]"
      ]
     },
     "execution_count": 14,
     "metadata": {},
     "output_type": "execute_result"
    },
    {
     "data": {
      "text/plain": [
       "DataFrame[year:int, month:int, hour:int, resolved:double, category:string, district:string, dayofweek:string, description:string, neighborhood:string]"
      ]
     },
     "execution_count": 14,
     "metadata": {},
     "output_type": "execute_result"
    },
    {
     "name": "stdout",
     "output_type": "stream",
     "text": [
      "[1] \"training set has 426306 instances\"\n",
      "[1] \"test set has 150155 instances\"\n"
     ]
    }
   ],
   "source": [
    "# initial data frame\n",
    "crimes = sql(hc, \"SELECT  cast(SUBSTR(date_str,7,4) as int) as year, \n",
    "        cast(SUBSTR(date_str,1,2) as int) as month, \n",
    "        cast(SUBSTR(time,1,2) as int) as hour,\n",
    "        resolved, category, district, dayofweek, description, neighborhood\n",
    "FROM crimes2\n",
    "WHERE latitude > 37 and latitude < 38\")\n",
    "\n",
    "trainData = filter(crimes, \"year>=2011 and year<=2013\")\n",
    "cache(trainData)\n",
    "testData = filter(crimes, \"year=2014\")\n",
    "cache(testData)\n",
    "print(paste0(\"training set has \", count(trainData), \" instances\"))\n",
    "print(paste0(\"test set has \", count(testData), \" instances\"))"
   ]
  },
  {
   "cell_type": "code",
   "execution_count": 15,
   "metadata": {
    "collapsed": false
   },
   "outputs": [
    {
     "data": {
      "text/plain": [
       "$coefficients\n",
       "                                         Estimate\n",
       "(Intercept)                          -0.500995597\n",
       "month                                -0.013698270\n",
       "hour                                  0.007715841\n",
       "category_LARCENY/THEFT               -1.966637160\n",
       "category_OTHER OFFENSES               1.270989783\n",
       "category_NON-CRIMINAL                -0.246223825\n",
       "category_ASSAULT                      0.230423056\n",
       "category_VANDALISM                   -1.396336159\n",
       "category_DRUG/NARCOTIC                2.355341637\n",
       "category_WARRANTS                     2.898549300\n",
       "category_SUSPICIOUS OCC              -1.348106274\n",
       "category_BURGLARY                    -0.875788725\n",
       "category_VEHICLE THEFT               -1.987641681\n",
       "category_MISSING PERSON               1.665890169\n",
       "category_ROBBERY                     -0.822972194\n",
       "category_FRAUD                       -1.114991424\n",
       "category_SECONDARY CODES              0.622131629\n",
       "category_WEAPON LAWS                  1.869005867\n",
       "category_TRESPASS                     1.186409444\n",
       "category_STOLEN PROPERTY              2.607626808\n",
       "category_FORGERY/COUNTERFEITING      -0.068146486\n",
       "category_PROSTITUTION                 2.884462812\n",
       "category_SEX OFFENSES, FORCIBLE       0.192205213\n",
       "category_DRUNKENNESS                  1.658611141\n",
       "category_RECOVERED VEHICLE           -1.708570543\n",
       "category_DISORDERLY CONDUCT           1.109973872\n",
       "category_DRIVING UNDER THE INFLUENCE  3.161483733\n",
       "category_KIDNAPPING                   0.715620360\n",
       "category_RUNAWAY                      1.038663448\n",
       "category_LIQUOR LAWS                  1.997762291\n",
       "category_ARSON                       -0.780926255\n",
       "category_EMBEZZLEMENT                -0.716695368\n",
       "category_LOITERING                    1.968992235\n",
       "category_SUICIDE                      0.051681181\n",
       "category_FAMILY OFFENSES             -0.253458450\n",
       "category_BRIBERY                      1.121022119\n",
       "category_BAD CHECKS                  -1.076153246\n",
       "category_EXTORTION                   -0.147007892\n",
       "category_SEX OFFENSES, NON FORCIBLE   0.460873957\n",
       "category_GAMBLING                     0.986811111\n",
       "category_PORNOGRAPHY/OBSCENE MAT      0.386166318\n",
       "district_SOUTHERN                     0.033583808\n",
       "district_MISSION                      0.475875779\n",
       "district_NORTHERN                    -0.021969016\n",
       "district_BAYVIEW                      0.055176562\n",
       "district_CENTRAL                     -0.287558824\n",
       "district_INGLESIDE                    0.193898515\n",
       "district_TENDERLOIN                   0.640502351\n",
       "district_TARAVAL                      0.240363593\n",
       "district_PARK                         0.059166475\n",
       "dayofweek_Friday                     -0.073344790\n",
       "dayofweek_Saturday                   -0.015888935\n",
       "dayofweek_Wednesday                   0.025025748\n",
       "dayofweek_Thursday                   -0.026655658\n",
       "dayofweek_Tuesday                    -0.015867908\n",
       "dayofweek_Sunday                      0.013801078\n",
       "neighborhood_Downtown/Civic Center    0.153010689\n",
       "neighborhood_South of Market          0.160210287\n",
       "neighborhood_Mission                 -0.287916023\n",
       "neighborhood_Bayview                  0.177175038\n",
       "neighborhood_Western Addition        -0.175962726\n",
       "neighborhood_Financial District       0.237691313\n",
       "neighborhood_Castro/Upper Market     -0.254762573\n",
       "neighborhood_Haight Ashbury           0.178012051\n",
       "neighborhood_North Beach              0.109416668\n",
       "neighborhood_Excelsior               -0.110366558\n",
       "neighborhood_Outer Mission           -0.171500135\n",
       "neighborhood_Bernal Heights          -0.171167999\n",
       "neighborhood_Potrero Hill            -0.177001258\n",
       "neighborhood_Inner Richmond          -0.231279187\n",
       "neighborhood_Visitacion Valley       -0.132683393\n",
       "neighborhood_Marina                  -0.355850651\n",
       "neighborhood_Outer Sunset            -0.479070275\n",
       "neighborhood_Nob Hill                 0.078041247\n",
       "neighborhood_Ocean View              -0.290216260\n",
       "neighborhood_Lakeshore               -0.046727214\n",
       "neighborhood_Russian Hill            -0.206509945\n",
       "neighborhood_Outer Richmond          -0.115498642\n",
       "neighborhood_Parkside                -0.519061412\n",
       "neighborhood_Inner Sunset            -0.478406620\n",
       "neighborhood_Pacific Heights         -0.565766022\n",
       "neighborhood_West of Twin Peaks      -0.474278575\n",
       "neighborhood_Chinatown                0.029137163\n",
       "neighborhood_Golden Gate Park        -0.081706940\n",
       "neighborhood_Noe Valley              -0.755653895\n",
       "neighborhood_Presidio Heights        -0.238432798\n",
       "neighborhood_Crocker Amazon          -0.206720503\n",
       "neighborhood_Glen Park               -0.559210545\n",
       "neighborhood_Twin Peaks              -1.017804121\n",
       "neighborhood_Seacliff                -0.590237769\n",
       "neighborhood_Diamond Heights         -0.460373358\n",
       "neighborhood_Treasure Island/YBI     -0.536487896\n"
      ]
     },
     "execution_count": 15,
     "metadata": {},
     "output_type": "execute_result"
    }
   ],
   "source": [
    "model <- glm(resolved ~ month + hour + category + district + dayofweek + neighborhood, \n",
    "             family = \"binomial\", data = trainData)\n",
    "summary(model)"
   ]
  },
  {
   "cell_type": "code",
   "execution_count": 16,
   "metadata": {
    "collapsed": false
   },
   "outputs": [],
   "source": [
    "# Predict results for test data\n",
    "pmat <- predict(model, testData)"
   ]
  },
  {
   "cell_type": "code",
   "execution_count": 62,
   "metadata": {
    "collapsed": false
   },
   "outputs": [
    {
     "name": "stdout",
     "output_type": "stream",
     "text": [
      "[1] \"precision = 0.74, recall = 0.67, accuracy = 0.79\"\n"
     ]
    }
   ],
   "source": [
    "# Compute precision/recall curve\n",
    "\n",
    "registerTempTable(pmat, \"pmat\")\n",
    "cm = sql(hc, \"SELECT prediction, label, COUNT(*) as cnt from pmat GROUP BY prediction, label\")\n",
    "\n",
    "cml = collect(cm)\n",
    "tp = cml[cml['prediction']==1.0 & cml['label']==1.0, \"cnt\"]\n",
    "tn = cml[cml['prediction']==0.0 & cml['label']==0.0, \"cnt\"]\n",
    "fp = cml[cml['prediction']==1.0 & cml['label']==0.0, \"cnt\"]\n",
    "fn = cml[cml['prediction']==0.0 & cml['label']==1.0, \"cnt\"]\n",
    "precision = tp / (tp+fp)\n",
    "recall = tp / (tp+fn)\n",
    "accuracy = (tp+tn) / (tp+tn+fp+fn)\n",
    "\n",
    "print(sprintf(\"precision = %0.2f, recall = %0.2f, accuracy = %0.2f\", precision, recall, accuracy)) "
   ]
  },
  {
   "cell_type": "code",
   "execution_count": null,
   "metadata": {
    "collapsed": true
   },
   "outputs": [],
   "source": []
  }
 ],
 "metadata": {
  "kernelspec": {
   "display_name": "R",
   "language": "",
   "name": "r"
  },
  "language_info": {
   "codemirror_mode": "r",
   "file_extension": ".r",
   "mimetype": "text/x-r-source",
   "name": "R",
   "pygments_lexer": "r",
   "version": "3.2.3"
  }
 },
 "nbformat": 4,
 "nbformat_minor": 0
}
