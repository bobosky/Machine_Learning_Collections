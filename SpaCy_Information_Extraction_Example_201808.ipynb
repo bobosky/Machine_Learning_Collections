{
 "cells": [
  {
   "cell_type": "markdown",
   "metadata": {},
   "source": [
    "## The Following are Templates of Information Extraction using SpaCy\n",
    "##### 1). Extracting named entity and their relationship (revenue, loss, currency, etc.)\n",
    "##### 2). Decompose sentences to get what the verb is about"
   ]
  },
  {
   "cell_type": "code",
   "execution_count": 1,
   "metadata": {},
   "outputs": [],
   "source": [
    "from __future__ import unicode_literals, print_function\n",
    "\n",
    "import plac\n",
    "import spacy\n",
    "\n",
    "\"\"\"\n",
    "A simple example of extracting relations between phrases and entities using\n",
    "spaCy's named entity recognizer and the dependency parse. Here, we extract\n",
    "money and currency values (entities labelled as MONEY) and then check the\n",
    "dependency tree to find the noun phrase they are referring to – for example:\n",
    "$9.4 million --> Net income.\n",
    "\n",
    "Compatible with: spaCy v2.0.0+\n",
    "\"\"\"\n",
    "\n",
    "def extract_currency_relations(doc):\n",
    "    # merge entities and noun chunks into one token\n",
    "    spans = list(doc.ents) + list(doc.noun_chunks)\n",
    "    for span in spans:\n",
    "        span.merge()\n",
    "    relations = []\n",
    "    for money in filter(lambda w: w.ent_type_ == 'MONEY', doc):\n",
    "        if money.dep_ in ('attr', 'dobj'):\n",
    "            subject = [w for w in money.head.lefts if w.dep_ == 'nsubj']\n",
    "            if subject:\n",
    "                subject = subject[0]\n",
    "                relations.append((subject, money))\n",
    "        elif money.dep_ == 'pobj' and money.head.dep_ == 'prep':\n",
    "            relations.append((money.head.head, money))\n",
    "    return relations\n"
   ]
  },
  {
   "cell_type": "code",
   "execution_count": 2,
   "metadata": {},
   "outputs": [
    {
     "name": "stdout",
     "output_type": "stream",
     "text": [
      "[1]:   Net income was $9.4 million compared to the prior year of $2.7 million.\n",
      "[2]:   Net income was $9.4 million compared to the prior year of $2.7 million.\n",
      "[3]:  relationships:  [(Net income, $9.4 million), (the prior year, $2.7 million)]\n",
      "[4]:  relationships components:  Net income\t    --    MONEY\t    --    $9.4 million\n",
      "**********************************************************************\n",
      "[1]:   Net income was $9.4 million compared to the prior year of $2.7 million.\n",
      "[2]:   Net income was $9.4 million compared to the prior year of $2.7 million.\n",
      "[3]:  relationships:  [(Net income, $9.4 million), (the prior year, $2.7 million)]\n",
      "[4]:  relationships components:  the prior year\t    --    MONEY\t    --    $2.7 million\n",
      "**********************************************************************\n",
      "[1]:   Revenue exceeded twelve billion dollars, with a loss of $1b.\n",
      "[2]:   Revenue exceeded twelve billion dollars, with a loss of $1b.\n",
      "[3]:  relationships:  [(Revenue, twelve billion dollars), (a loss, 1b)]\n",
      "[4]:  relationships components:  Revenue   \t    --    MONEY\t    --    twelve billion dollars\n",
      "**********************************************************************\n",
      "[1]:   Revenue exceeded twelve billion dollars, with a loss of $1b.\n",
      "[2]:   Revenue exceeded twelve billion dollars, with a loss of $1b.\n",
      "[3]:  relationships:  [(Revenue, twelve billion dollars), (a loss, 1b)]\n",
      "[4]:  relationships components:  a loss    \t    --    MONEY\t    --    1b\n",
      "**********************************************************************\n",
      "[5]:  doc.ents:  (twelve billion dollars, 1b)  -- doc.noun_chunks: [Revenue, twelve billion dollars, a loss]\n",
      "[6]:  span:  a loss\n",
      "[7]:  money:  twelve billion dollars  -- subject:  Revenue\n"
     ]
    }
   ],
   "source": [
    "TEXTS = [\n",
    "    'Net income was $9.4 million compared to the prior year of $2.7 million.',\n",
    "    'Revenue exceeded twelve billion dollars, with a loss of $1b.',\n",
    "]\n",
    "\n",
    "model = \"en_core_web_sm\"\n",
    "\"\"\"model:  English multi-task CNN trained on OntoNotes, with GloVe vectors trained \n",
    "    on Common Crawl. Assigns word vectors, context-specific token vectors, \n",
    "    POS tags, dependency parse and named entities.\"\"\"\n",
    "nlp = spacy.load(model)\n",
    "\n",
    "for text in TEXTS:\n",
    "    doc = nlp(text)\n",
    "    relations = extract_currency_relations(doc)\n",
    "    for r1, r2 in relations:\n",
    "        print(\"[1]:  \",text)\n",
    "        print(\"[2]:  \",doc)\n",
    "        print(\"[3]:  relationships: \",relations)\n",
    "        print(\"[4]:  relationships components: \",'{:<10}\\t    --    {}\\t    --    {}'.format(r1.text, r2.ent_type_, r2.text))\n",
    "        print(\"*\"*70)\n",
    "\n",
    "\n",
    "text = 'Revenue exceeded twelve billion dollars, with a loss of $1b.'\n",
    "doc = nlp(text)\n",
    "print(\"[5]:  doc.ents: \",doc.ents, \" -- doc.noun_chunks:\", list(doc.noun_chunks))\n",
    "spans = list(doc.ents) + list(doc.noun_chunks)\n",
    "for span in spans:\n",
    "    span.merge()\n",
    "print(\"[6]:  span: \", span)\n",
    "relations = []\n",
    "for money in filter(lambda w: w.ent_type_ == 'MONEY', doc):\n",
    "    if money.dep_ in ('attr', 'dobj'):\n",
    "        subject = [w for w in money.head.lefts if w.dep_ == 'nsubj']\n",
    "        if subject:\n",
    "            subject = subject[0]\n",
    "            relations.append((subject, money))\n",
    "            print(\"[7]:  money: \", money,\" -- subject: \", subject)\n",
    "    elif money.dep_ == 'pobj' and money.head.dep_ == 'prep':\n",
    "        relations.append((money.head.head, money))\n",
    "    break"
   ]
  },
  {
   "cell_type": "code",
   "execution_count": 3,
   "metadata": {},
   "outputs": [
    {
     "name": "stdout",
     "output_type": "stream",
     "text": [
      "[1]:   show  ---- : to show you how computers understand language\n",
      "[1]:   understand  ---- : how computers understand language\n",
      "Another way to parse out the text for clausal complement is: \n",
      "[2]:   to show you how computers understand language | show\n",
      "[2]:   how computers understand language | understand\n"
     ]
    }
   ],
   "source": [
    "model = 'en_core_web_sm'\n",
    "lp = spacy.load(model)\n",
    "\n",
    "doc = nlp(\"displaCy uses CSS and JavaScript to show you how computers \"\n",
    "           \"understand language\")\n",
    "\n",
    "# The easiest way is to find the head of the subtree you want, and then use\n",
    "# the `.subtree`, `.children`, `.lefts` and `.rights` iterators. `.subtree`\n",
    "# is the one that does what you're asking for most directly:\n",
    "for word in doc:\n",
    "    if word.dep_ in ('xcomp', 'ccomp'):\n",
    "        print(\"[1]:  \", word, \" ---- :\", ''.join(w.text_with_ws for w in word.subtree))\n",
    "print(\"Another way to parse out the text for clausal complement is: \")\n",
    "for word in doc:\n",
    "    if word.dep_ in ('xcomp', 'ccomp'):\n",
    "        subtree_span = doc[word.left_edge.i : word.right_edge.i + 1]\n",
    "        print(\"[2]:  \",subtree_span.text, '|', subtree_span.root.text)"
   ]
  }
 ],
 "metadata": {
  "kernelspec": {
   "display_name": "Python 3",
   "language": "python",
   "name": "python3"
  },
  "language_info": {
   "codemirror_mode": {
    "name": "ipython",
    "version": 3
   },
   "file_extension": ".py",
   "mimetype": "text/x-python",
   "name": "python",
   "nbconvert_exporter": "python",
   "pygments_lexer": "ipython3",
   "version": "3.6.6"
  }
 },
 "nbformat": 4,
 "nbformat_minor": 2
}
