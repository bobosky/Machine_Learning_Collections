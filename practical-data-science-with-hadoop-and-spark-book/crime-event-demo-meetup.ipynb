{
 "cells": [
  {
   "cell_type": "markdown",
   "metadata": {},
   "source": [
    "# Data Science Demo: predicting Crime resolution in San Francisco"
   ]
  },
  {
   "cell_type": "markdown",
   "metadata": {},
   "source": [
    "The City of San Francisco publishes historical crime events on their http://sfdata.gov website. \n",
    "\n",
    "I have loaded this dataset into HIVE. Let's use Spark to do some fun stuff with it!"
   ]
  },
  {
   "cell_type": "markdown",
   "metadata": {},
   "source": [
    "## Setting Up Spark"
   ]
  },
  {
   "cell_type": "markdown",
   "metadata": {},
   "source": [
    "First we create a SparkContext:"
   ]
  },
  {
   "cell_type": "code",
   "execution_count": 1,
   "metadata": {
    "collapsed": false
   },
   "outputs": [],
   "source": [
    "# Set up Spark Context\n",
    "from pyspark import SparkContext, SparkConf\n",
    "\n",
    "SparkContext.setSystemProperty('spark.executor.memory', '4g')\n",
    "conf = SparkConf()\n",
    "conf.set('spark.sql.autoBroadcastJoinThreshold', 200*1024*1024)  # 200MB for map-side joins \n",
    "conf.set('spark.executor.instances', 12)\n",
    "\n",
    "sc = SparkContext('yarn-client', 'Spark-demo', conf=conf)"
   ]
  },
  {
   "cell_type": "markdown",
   "metadata": {},
   "source": [
    "And now we create a HiveContext to enable Spark to access data from HIVE:"
   ]
  },
  {
   "cell_type": "code",
   "execution_count": 2,
   "metadata": {
    "collapsed": false
   },
   "outputs": [
    {
     "name": "stdout",
     "output_type": "stream",
     "text": [
      "+-----------+---------+-------+\n",
      "|   col_name|data_type|comment|\n",
      "+-----------+---------+-------+\n",
      "| incidentid|   string|   null|\n",
      "|   category|   string|   null|\n",
      "|description|   string|   null|\n",
      "|  dayofweek|   string|   null|\n",
      "|   date_str|   string|   null|\n",
      "|       time|   string|   null|\n",
      "|   district|   string|   null|\n",
      "| resolution|   string|   null|\n",
      "|    address|   string|   null|\n",
      "|  longitude|   string|   null|\n",
      "|   latitude|   string|   null|\n",
      "|   location|   string|   null|\n",
      "|       pdid|   string|   null|\n",
      "+-----------+---------+-------+\n",
      "\n"
     ]
    }
   ],
   "source": [
    "# Setup HiveContext\n",
    "from pyspark.sql import HiveContext, Row\n",
    "hc = HiveContext(sc)\n",
    "hc.sql(\"use demo\")\n",
    "hc.sql(\"DESCRIBE crimes\").show()"
   ]
  },
  {
   "cell_type": "markdown",
   "metadata": {},
   "source": [
    "Let's take a look at the dataset - first 5 rows:"
   ]
  },
  {
   "cell_type": "code",
   "execution_count": 3,
   "metadata": {
    "collapsed": false
   },
   "outputs": [
    {
     "data": {
      "text/html": [
       "<div style=\"max-height:1000px;max-width:1500px;overflow:auto;\">\n",
       "<table border=\"1\" class=\"dataframe\">\n",
       "  <thead>\n",
       "    <tr style=\"text-align: right;\">\n",
       "      <th></th>\n",
       "      <th>incidentid</th>\n",
       "      <th>category</th>\n",
       "      <th>description</th>\n",
       "      <th>dayofweek</th>\n",
       "      <th>date_str</th>\n",
       "      <th>time</th>\n",
       "      <th>district</th>\n",
       "      <th>resolution</th>\n",
       "      <th>address</th>\n",
       "      <th>longitude</th>\n",
       "      <th>latitude</th>\n",
       "      <th>location</th>\n",
       "      <th>pdid</th>\n",
       "    </tr>\n",
       "  </thead>\n",
       "  <tbody>\n",
       "    <tr>\n",
       "      <th>0</th>\n",
       "      <td>150331521</td>\n",
       "      <td>LARCENY/THEFT</td>\n",
       "      <td>GRAND THEFT FROM A BUILDING</td>\n",
       "      <td>Wednesday</td>\n",
       "      <td>04/22/2015</td>\n",
       "      <td>18:00</td>\n",
       "      <td>BAYVIEW</td>\n",
       "      <td>NONE</td>\n",
       "      <td>2000 Block of EVANS AV</td>\n",
       "      <td>-122.396315619126</td>\n",
       "      <td>37.7478113603031</td>\n",
       "      <td>(37.7478113603031, -122.396315619126)</td>\n",
       "      <td>15033152106304</td>\n",
       "    </tr>\n",
       "    <tr>\n",
       "      <th>1</th>\n",
       "      <td>150341605</td>\n",
       "      <td>ASSAULT</td>\n",
       "      <td>ATTEMPTED SIMPLE ASSAULT</td>\n",
       "      <td>Sunday</td>\n",
       "      <td>04/19/2015</td>\n",
       "      <td>12:15</td>\n",
       "      <td>CENTRAL</td>\n",
       "      <td>NONE</td>\n",
       "      <td>800 Block of WASHINGTON ST</td>\n",
       "      <td>-122.40672716771</td>\n",
       "      <td>37.7950566945259</td>\n",
       "      <td>(37.7950566945259, -122.40672716771)</td>\n",
       "      <td>15034160504114</td>\n",
       "    </tr>\n",
       "    <tr>\n",
       "      <th>2</th>\n",
       "      <td>150341605</td>\n",
       "      <td>ASSAULT</td>\n",
       "      <td>THREATS AGAINST LIFE</td>\n",
       "      <td>Sunday</td>\n",
       "      <td>04/19/2015</td>\n",
       "      <td>12:15</td>\n",
       "      <td>CENTRAL</td>\n",
       "      <td>NONE</td>\n",
       "      <td>800 Block of WASHINGTON ST</td>\n",
       "      <td>-122.40672716771</td>\n",
       "      <td>37.7950566945259</td>\n",
       "      <td>(37.7950566945259, -122.40672716771)</td>\n",
       "      <td>15034160519057</td>\n",
       "    </tr>\n",
       "    <tr>\n",
       "      <th>3</th>\n",
       "      <td>150341605</td>\n",
       "      <td>OTHER OFFENSES</td>\n",
       "      <td>CRUELTY TO ANIMALS</td>\n",
       "      <td>Sunday</td>\n",
       "      <td>04/19/2015</td>\n",
       "      <td>12:15</td>\n",
       "      <td>CENTRAL</td>\n",
       "      <td>NONE</td>\n",
       "      <td>800 Block of WASHINGTON ST</td>\n",
       "      <td>-122.40672716771</td>\n",
       "      <td>37.7950566945259</td>\n",
       "      <td>(37.7950566945259, -122.40672716771)</td>\n",
       "      <td>15034160528010</td>\n",
       "    </tr>\n",
       "    <tr>\n",
       "      <th>4</th>\n",
       "      <td>150341702</td>\n",
       "      <td>NON-CRIMINAL</td>\n",
       "      <td>AIDED CASE, MENTAL DISTURBED</td>\n",
       "      <td>Sunday</td>\n",
       "      <td>04/19/2015</td>\n",
       "      <td>12:03</td>\n",
       "      <td>MISSION</td>\n",
       "      <td>EXCEPTIONAL CLEARANCE</td>\n",
       "      <td>1100 Block of SOUTH VAN NESS AV</td>\n",
       "      <td>-122.416557578218</td>\n",
       "      <td>37.7547485110398</td>\n",
       "      <td>(37.7547485110398, -122.416557578218)</td>\n",
       "      <td>15034170264020</td>\n",
       "    </tr>\n",
       "  </tbody>\n",
       "</table>\n",
       "</div>"
      ],
      "text/plain": [
       "  incidentid        category                   description  dayofweek  \\\n",
       "0  150331521   LARCENY/THEFT   GRAND THEFT FROM A BUILDING  Wednesday   \n",
       "1  150341605         ASSAULT      ATTEMPTED SIMPLE ASSAULT     Sunday   \n",
       "2  150341605         ASSAULT          THREATS AGAINST LIFE     Sunday   \n",
       "3  150341605  OTHER OFFENSES            CRUELTY TO ANIMALS     Sunday   \n",
       "4  150341702    NON-CRIMINAL  AIDED CASE, MENTAL DISTURBED     Sunday   \n",
       "\n",
       "     date_str   time district             resolution  \\\n",
       "0  04/22/2015  18:00  BAYVIEW                   NONE   \n",
       "1  04/19/2015  12:15  CENTRAL                   NONE   \n",
       "2  04/19/2015  12:15  CENTRAL                   NONE   \n",
       "3  04/19/2015  12:15  CENTRAL                   NONE   \n",
       "4  04/19/2015  12:03  MISSION  EXCEPTIONAL CLEARANCE   \n",
       "\n",
       "                           address          longitude          latitude  \\\n",
       "0           2000 Block of EVANS AV  -122.396315619126  37.7478113603031   \n",
       "1       800 Block of WASHINGTON ST   -122.40672716771  37.7950566945259   \n",
       "2       800 Block of WASHINGTON ST   -122.40672716771  37.7950566945259   \n",
       "3       800 Block of WASHINGTON ST   -122.40672716771  37.7950566945259   \n",
       "4  1100 Block of SOUTH VAN NESS AV  -122.416557578218  37.7547485110398   \n",
       "\n",
       "                                location            pdid  \n",
       "0  (37.7478113603031, -122.396315619126)  15033152106304  \n",
       "1   (37.7950566945259, -122.40672716771)  15034160504114  \n",
       "2   (37.7950566945259, -122.40672716771)  15034160519057  \n",
       "3   (37.7950566945259, -122.40672716771)  15034160528010  \n",
       "4  (37.7547485110398, -122.416557578218)  15034170264020  "
      ]
     },
     "execution_count": 3,
     "metadata": {},
     "output_type": "execute_result"
    }
   ],
   "source": [
    "crimes = hc.table(\"crimes\")\n",
    "crimes.limit(5).toPandas()"
   ]
  },
  {
   "cell_type": "markdown",
   "metadata": {},
   "source": [
    "## Exploring the Dataset"
   ]
  },
  {
   "cell_type": "markdown",
   "metadata": {},
   "source": [
    "What are the different types of crime resolutions?"
   ]
  },
  {
   "cell_type": "code",
   "execution_count": 4,
   "metadata": {
    "collapsed": false
   },
   "outputs": [
    {
     "data": {
      "text/html": [
       "<div style=\"max-height:1000px;max-width:1500px;overflow:auto;\">\n",
       "<table border=\"1\" class=\"dataframe\">\n",
       "  <thead>\n",
       "    <tr style=\"text-align: right;\">\n",
       "      <th></th>\n",
       "      <th>resolution</th>\n",
       "    </tr>\n",
       "  </thead>\n",
       "  <tbody>\n",
       "    <tr>\n",
       "      <th>0</th>\n",
       "      <td>LOCATED</td>\n",
       "    </tr>\n",
       "    <tr>\n",
       "      <th>1</th>\n",
       "      <td>JUVENILE DIVERTED</td>\n",
       "    </tr>\n",
       "    <tr>\n",
       "      <th>2</th>\n",
       "      <td>ARREST, CITED</td>\n",
       "    </tr>\n",
       "    <tr>\n",
       "      <th>3</th>\n",
       "      <td>NOT PROSECUTED</td>\n",
       "    </tr>\n",
       "    <tr>\n",
       "      <th>4</th>\n",
       "      <td>COMPLAINANT REFUSES TO PROSECUTE</td>\n",
       "    </tr>\n",
       "    <tr>\n",
       "      <th>5</th>\n",
       "      <td>CLEARED-CONTACT JUVENILE FOR MORE INFO</td>\n",
       "    </tr>\n",
       "    <tr>\n",
       "      <th>6</th>\n",
       "      <td>JUVENILE CITED</td>\n",
       "    </tr>\n",
       "    <tr>\n",
       "      <th>7</th>\n",
       "      <td>PROSECUTED FOR LESSER OFFENSE</td>\n",
       "    </tr>\n",
       "    <tr>\n",
       "      <th>8</th>\n",
       "      <td>EXCEPTIONAL CLEARANCE</td>\n",
       "    </tr>\n",
       "    <tr>\n",
       "      <th>9</th>\n",
       "      <td>JUVENILE BOOKED</td>\n",
       "    </tr>\n",
       "    <tr>\n",
       "      <th>10</th>\n",
       "      <td>UNFOUNDED</td>\n",
       "    </tr>\n",
       "    <tr>\n",
       "      <th>11</th>\n",
       "      <td>PSYCHOPATHIC CASE</td>\n",
       "    </tr>\n",
       "    <tr>\n",
       "      <th>12</th>\n",
       "      <td>JUVENILE ADMONISHED</td>\n",
       "    </tr>\n",
       "    <tr>\n",
       "      <th>13</th>\n",
       "      <td>DISTRICT ATTORNEY REFUSES TO PROSECUTE</td>\n",
       "    </tr>\n",
       "    <tr>\n",
       "      <th>14</th>\n",
       "      <td>PROSECUTED BY OUTSIDE AGENCY</td>\n",
       "    </tr>\n",
       "    <tr>\n",
       "      <th>15</th>\n",
       "      <td>ARREST, BOOKED</td>\n",
       "    </tr>\n",
       "    <tr>\n",
       "      <th>16</th>\n",
       "      <td>NONE</td>\n",
       "    </tr>\n",
       "  </tbody>\n",
       "</table>\n",
       "</div>"
      ],
      "text/plain": [
       "                                resolution\n",
       "0                                  LOCATED\n",
       "1                        JUVENILE DIVERTED\n",
       "2                            ARREST, CITED\n",
       "3                           NOT PROSECUTED\n",
       "4         COMPLAINANT REFUSES TO PROSECUTE\n",
       "5   CLEARED-CONTACT JUVENILE FOR MORE INFO\n",
       "6                           JUVENILE CITED\n",
       "7            PROSECUTED FOR LESSER OFFENSE\n",
       "8                    EXCEPTIONAL CLEARANCE\n",
       "9                          JUVENILE BOOKED\n",
       "10                               UNFOUNDED\n",
       "11                       PSYCHOPATHIC CASE\n",
       "12                     JUVENILE ADMONISHED\n",
       "13  DISTRICT ATTORNEY REFUSES TO PROSECUTE\n",
       "14            PROSECUTED BY OUTSIDE AGENCY\n",
       "15                          ARREST, BOOKED\n",
       "16                                    NONE"
      ]
     },
     "execution_count": 4,
     "metadata": {},
     "output_type": "execute_result"
    }
   ],
   "source": [
    "crimes.select(\"resolution\").distinct().toPandas()"
   ]
  },
  {
   "cell_type": "markdown",
   "metadata": {},
   "source": [
    "Let's define a crime as 'resolved' if it has any string except \"NONE\" in the resolution column.\n",
    "\n",
    "**Question**: How many crimes total in the dataset? How many resolved?"
   ]
  },
  {
   "cell_type": "code",
   "execution_count": 5,
   "metadata": {
    "collapsed": false
   },
   "outputs": [
    {
     "name": "stdout",
     "output_type": "stream",
     "text": [
      "1750133 crimes total, out of which 700088 were resolved\n"
     ]
    }
   ],
   "source": [
    "total = crimes.count()\n",
    "num_resolved = crimes.filter(crimes.resolution != 'NONE').count()\n",
    "print str(total) + \" crimes total, out of which \" + str(num_resolved) + \" were resolved\""
   ]
  },
  {
   "cell_type": "markdown",
   "metadata": {},
   "source": [
    "Let's look at the longitude/latitude values in more detail. Spark provides the describe() function to see this some basic statistics of these columns:"
   ]
  },
  {
   "cell_type": "code",
   "execution_count": 6,
   "metadata": {
    "collapsed": false
   },
   "outputs": [
    {
     "data": {
      "text/html": [
       "<div style=\"max-height:1000px;max-width:1500px;overflow:auto;\">\n",
       "<table border=\"1\" class=\"dataframe\">\n",
       "  <thead>\n",
       "    <tr style=\"text-align: right;\">\n",
       "      <th></th>\n",
       "      <th>summary</th>\n",
       "      <th>long</th>\n",
       "      <th>lat</th>\n",
       "    </tr>\n",
       "  </thead>\n",
       "  <tbody>\n",
       "    <tr>\n",
       "      <th>0</th>\n",
       "      <td>count</td>\n",
       "      <td>1750133</td>\n",
       "      <td>1750133</td>\n",
       "    </tr>\n",
       "    <tr>\n",
       "      <th>1</th>\n",
       "      <td>mean</td>\n",
       "      <td>-122.42263853403858</td>\n",
       "      <td>37.771270995453996</td>\n",
       "    </tr>\n",
       "    <tr>\n",
       "      <th>2</th>\n",
       "      <td>stddev</td>\n",
       "      <td>0.030939621130535496</td>\n",
       "      <td>0.4727448638706336</td>\n",
       "    </tr>\n",
       "    <tr>\n",
       "      <th>3</th>\n",
       "      <td>min</td>\n",
       "      <td>-122.51364</td>\n",
       "      <td>37.70788</td>\n",
       "    </tr>\n",
       "    <tr>\n",
       "      <th>4</th>\n",
       "      <td>max</td>\n",
       "      <td>-120.5</td>\n",
       "      <td>90.0</td>\n",
       "    </tr>\n",
       "  </tbody>\n",
       "</table>\n",
       "</div>"
      ],
      "text/plain": [
       "  summary                  long                 lat\n",
       "0   count               1750133             1750133\n",
       "1    mean   -122.42263853403858  37.771270995453996\n",
       "2  stddev  0.030939621130535496  0.4727448638706336\n",
       "3     min            -122.51364            37.70788\n",
       "4     max                -120.5                90.0"
      ]
     },
     "execution_count": 6,
     "metadata": {},
     "output_type": "execute_result"
    }
   ],
   "source": [
    "c1 = crimes.select(crimes.longitude.cast(\"float\").alias(\"long\"), \n",
    "              crimes.latitude.cast(\"float\").alias(\"lat\"))\n",
    "c1.describe().toPandas()"
   ]
  },
  {
   "cell_type": "markdown",
   "metadata": {},
   "source": [
    "Notice that the max values for longitude (-120.5) and latitude (90.0) seem strange. Those are not inside the SF area. Let's see how many bad values like this exist in the dataset: "
   ]
  },
  {
   "cell_type": "code",
   "execution_count": 7,
   "metadata": {
    "collapsed": false
   },
   "outputs": [
    {
     "name": "stdout",
     "output_type": "stream",
     "text": [
      "143\n"
     ]
    },
    {
     "data": {
      "text/plain": [
       "[Row(long=-120.5, lat=90.0),\n",
       " Row(long=-120.5, lat=90.0),\n",
       " Row(long=-120.5, lat=90.0)]"
      ]
     },
     "execution_count": 7,
     "metadata": {},
     "output_type": "execute_result"
    }
   ],
   "source": [
    "c2 = c1.filter('lat < 37 or lat > 38')\n",
    "print c2.count()\n",
    "c2.head(3)"
   ]
  },
  {
   "cell_type": "markdown",
   "metadata": {},
   "source": [
    "Seems like this is a data quality issue where some data points just have a fixed (bad) value of -120.5, 90."
   ]
  },
  {
   "cell_type": "markdown",
   "metadata": {},
   "source": [
    "## Computing Neighborhoods\n",
    "\n",
    "Now I create a new dataset called crimes2:\n",
    "1. Without the points that have invalid longitude/latitude\n",
    "2. I calculate the neighborhood associated with each long/lat (for each crime), using ESRI geo-spatial UDFs\n",
    "3. Translate \"resolution\" to \"resolved\" (1.0 = resolved, 0.0 = unresolved)"
   ]
  },
  {
   "cell_type": "code",
   "execution_count": 8,
   "metadata": {
    "collapsed": true
   },
   "outputs": [],
   "source": [
    "hc.sql(\"add jar /home/jupyter/notebooks/jars/guava-11.0.2.jar\")\n",
    "hc.sql(\"add jar /home/jupyter/notebooks/jars/spatial-sdk-json.jar\")\n",
    "hc.sql(\"add jar /home/jupyter/notebooks/jars/esri-geometry-api.jar\")\n",
    "hc.sql(\"add jar /home/jupyter/notebooks/jars/spatial-sdk-hive.jar\")\n",
    "\n",
    "hc.sql(\"create temporary function ST_Contains as 'com.esri.hadoop.hive.ST_Contains'\")\n",
    "hc.sql(\"create temporary function ST_Point as 'com.esri.hadoop.hive.ST_Point'\")\n",
    "\n",
    "cf = hc.sql(\"\"\"\n",
    "SELECT  date_str, time, longitude, latitude, resolution, category, district, dayofweek, description\n",
    "FROM crimes\n",
    "WHERE longitude < -121.0 and latitude < 38.0\n",
    "\"\"\").repartition(50)\n",
    "cf.registerTempTable(\"cf\")\n",
    "\n",
    "crimes2 = hc.sql(\"\"\"\n",
    "SELECT date_str, time, dayofweek, category, district, description, longitude, latitude,\n",
    "       if (resolution == 'NONE',0.0,1.0) as resolved,\n",
    "       neighborho as neighborhood \n",
    "FROM sf_neighborhoods JOIN cf\n",
    "WHERE ST_Contains(sf_neighborhoods.shape, ST_Point(cf.longitude, cf.latitude))\n",
    "\"\"\").cache()\n",
    "crimes2.registerTempTable(\"crimes2\")"
   ]
  },
  {
   "cell_type": "code",
   "execution_count": 9,
   "metadata": {
    "collapsed": false
   },
   "outputs": [
    {
     "data": {
      "text/html": [
       "<div style=\"max-height:1000px;max-width:1500px;overflow:auto;\">\n",
       "<table border=\"1\" class=\"dataframe\">\n",
       "  <thead>\n",
       "    <tr style=\"text-align: right;\">\n",
       "      <th></th>\n",
       "      <th>date_str</th>\n",
       "      <th>time</th>\n",
       "      <th>dayofweek</th>\n",
       "      <th>category</th>\n",
       "      <th>district</th>\n",
       "      <th>description</th>\n",
       "      <th>longitude</th>\n",
       "      <th>latitude</th>\n",
       "      <th>resolved</th>\n",
       "      <th>neighborhood</th>\n",
       "    </tr>\n",
       "  </thead>\n",
       "  <tbody>\n",
       "    <tr>\n",
       "      <th>0</th>\n",
       "      <td>03/28/2015</td>\n",
       "      <td>21:00</td>\n",
       "      <td>Saturday</td>\n",
       "      <td>LARCENY/THEFT</td>\n",
       "      <td>RICHMOND</td>\n",
       "      <td>GRAND THEFT FROM PERSON</td>\n",
       "      <td>-122.513642064265</td>\n",
       "      <td>37.7784692199467</td>\n",
       "      <td>0</td>\n",
       "      <td>Seacliff</td>\n",
       "    </tr>\n",
       "    <tr>\n",
       "      <th>1</th>\n",
       "      <td>02/26/2015</td>\n",
       "      <td>09:45</td>\n",
       "      <td>Thursday</td>\n",
       "      <td>LARCENY/THEFT</td>\n",
       "      <td>RICHMOND</td>\n",
       "      <td>GRAND THEFT FROM LOCKED AUTO</td>\n",
       "      <td>-122.496761041371</td>\n",
       "      <td>37.7859619989064</td>\n",
       "      <td>0</td>\n",
       "      <td>Seacliff</td>\n",
       "    </tr>\n",
       "    <tr>\n",
       "      <th>2</th>\n",
       "      <td>02/09/2015</td>\n",
       "      <td>22:00</td>\n",
       "      <td>Monday</td>\n",
       "      <td>SUSPICIOUS OCC</td>\n",
       "      <td>RICHMOND</td>\n",
       "      <td>SUSPICIOUS OCCURRENCE</td>\n",
       "      <td>-122.509644693774</td>\n",
       "      <td>37.7752065367343</td>\n",
       "      <td>0</td>\n",
       "      <td>Seacliff</td>\n",
       "    </tr>\n",
       "    <tr>\n",
       "      <th>3</th>\n",
       "      <td>12/11/2014</td>\n",
       "      <td>21:00</td>\n",
       "      <td>Thursday</td>\n",
       "      <td>LARCENY/THEFT</td>\n",
       "      <td>RICHMOND</td>\n",
       "      <td>PETTY THEFT FROM LOCKED AUTO</td>\n",
       "      <td>-122.513642064265</td>\n",
       "      <td>37.7784692199467</td>\n",
       "      <td>0</td>\n",
       "      <td>Seacliff</td>\n",
       "    </tr>\n",
       "    <tr>\n",
       "      <th>4</th>\n",
       "      <td>08/24/2014</td>\n",
       "      <td>20:00</td>\n",
       "      <td>Sunday</td>\n",
       "      <td>VANDALISM</td>\n",
       "      <td>RICHMOND</td>\n",
       "      <td>MALICIOUS MISCHIEF, VANDALISM OF VEHICLES</td>\n",
       "      <td>-122.513642064265</td>\n",
       "      <td>37.7784692199467</td>\n",
       "      <td>0</td>\n",
       "      <td>Seacliff</td>\n",
       "    </tr>\n",
       "  </tbody>\n",
       "</table>\n",
       "</div>"
      ],
      "text/plain": [
       "     date_str   time dayofweek        category  district  \\\n",
       "0  03/28/2015  21:00  Saturday   LARCENY/THEFT  RICHMOND   \n",
       "1  02/26/2015  09:45  Thursday   LARCENY/THEFT  RICHMOND   \n",
       "2  02/09/2015  22:00    Monday  SUSPICIOUS OCC  RICHMOND   \n",
       "3  12/11/2014  21:00  Thursday   LARCENY/THEFT  RICHMOND   \n",
       "4  08/24/2014  20:00    Sunday       VANDALISM  RICHMOND   \n",
       "\n",
       "                                 description          longitude  \\\n",
       "0                    GRAND THEFT FROM PERSON  -122.513642064265   \n",
       "1               GRAND THEFT FROM LOCKED AUTO  -122.496761041371   \n",
       "2                      SUSPICIOUS OCCURRENCE  -122.509644693774   \n",
       "3               PETTY THEFT FROM LOCKED AUTO  -122.513642064265   \n",
       "4  MALICIOUS MISCHIEF, VANDALISM OF VEHICLES  -122.513642064265   \n",
       "\n",
       "           latitude  resolved neighborhood  \n",
       "0  37.7784692199467         0     Seacliff  \n",
       "1  37.7859619989064         0     Seacliff  \n",
       "2  37.7752065367343         0     Seacliff  \n",
       "3  37.7784692199467         0     Seacliff  \n",
       "4  37.7784692199467         0     Seacliff  "
      ]
     },
     "execution_count": 9,
     "metadata": {},
     "output_type": "execute_result"
    }
   ],
   "source": [
    "crimes2.limit(5).toPandas()"
   ]
  },
  {
   "cell_type": "markdown",
   "metadata": {
    "collapsed": true
   },
   "source": [
    "**Question:** what is the percentage of crimes resolved in each neighborhood?"
   ]
  },
  {
   "cell_type": "code",
   "execution_count": 10,
   "metadata": {
    "collapsed": false
   },
   "outputs": [
    {
     "name": "stdout",
     "output_type": "stream",
     "text": [
      "                       % resolved   count\n",
      "neighborhood                             \n",
      "Downtown/Civic Center    0.571815  285122\n",
      "Mission                  0.502114  190606\n",
      "Bayview                  0.472574  119412\n",
      "Haight Ashbury           0.445869   41898\n",
      "Golden Gate Park         0.415417   15606\n",
      "South of Market          0.392870  241230\n",
      "Ocean View               0.384878   30724\n",
      "Bernal Heights           0.372881   38881\n",
      "Excelsior                0.371796   40810\n",
      "Outer Mission            0.368532   37123\n"
     ]
    }
   ],
   "source": [
    "ngrp = crimes2.groupBy('neighborhood')\n",
    "ngrp_pd = ngrp.avg('resolved').toPandas()\n",
    "ngrp_pd['count'] = ngrp.count().toPandas()['count']\n",
    "ngrp_pd.columns = ['neighborhood', '% resolved', 'count']\n",
    "data = ngrp_pd.sort(columns = '% resolved', ascending=False)\n",
    "print data.set_index('neighborhood').head(10)"
   ]
  },
  {
   "cell_type": "markdown",
   "metadata": {},
   "source": [
    "And as a bar chart:"
   ]
  },
  {
   "cell_type": "code",
   "execution_count": 11,
   "metadata": {
    "collapsed": false,
    "scrolled": false
   },
   "outputs": [
    {
     "data": {
      "text/plain": [
       "<matplotlib.axes._subplots.AxesSubplot at 0x7f8928d96e90>"
      ]
     },
     "execution_count": 11,
     "metadata": {},
     "output_type": "execute_result"
    },
    {
     "data": {
      "image/png": "[encoded data removed]",
      "text/plain": [
       "<matplotlib.figure.Figure at 0x7f89282e0ed0>"
      ]
     },
     "metadata": {},
     "output_type": "display_data"
    }
   ],
   "source": [
    "import matplotlib\n",
    "matplotlib.style.use('ggplot')\n",
    "data.iloc[:10].plot('neighborhood', '% resolved', kind='bar', legend=False, figsize=(12,5), fontsize=15)"
   ]
  },
  {
   "cell_type": "markdown",
   "metadata": {},
   "source": [
    "Using the Python Folium package I draw an interactive map of San Francisco, and color-code each neighborhood with the percent of resolved crimes:"
   ]
  },
  {
   "cell_type": "code",
   "execution_count": 12,
   "metadata": {
    "collapsed": false,
    "scrolled": false
   },
   "outputs": [
    {
     "data": {
      "text/html": [
       "<iframe srcdoc=\"<!DOCTYPE html>\n",
       "<head>\n",
       "   <meta http-equiv=&quot;content-type&quot; content=&quot;text/html; charset=UTF-8&quot; />\n",
       "   <link rel=&quot;stylesheet&quot; href=&quot;//cdnjs.cloudflare.com/ajax/libs/leaflet/0.7.3/leaflet.css&quot; />\n",
       "   <script src=&quot;//cdnjs.cloudflare.com/ajax/libs/leaflet/0.7.3/leaflet.js&quot;></script>\n",
       "   <script src=&quot;//cdnjs.cloudflare.com/ajax/libs/d3/3.5.5/d3.min.js&quot; charset=&quot;utf-8&quot;></script>\n",
       "   <script src=&quot;//cdnjs.cloudflare.com/ajax/libs/queue-async/1.0.7/queue.min.js&quot;></script>\n",
       "\n",
       "   \n",
       "   \n",
       "   \n",
       "   \n",
       "\n",
       "   <style>\n",
       "\n",
       "      html, body {\n",
       "        width: 100%;\n",
       "        height: 100%;\n",
       "        margin: 0;\n",
       "        padding: 0;\n",
       "      }\n",
       "\n",
       "      .legend {\n",
       "          padding: 0px 0px;\n",
       "          font: 10px sans-serif;\n",
       "          background: white;\n",
       "          background: rgba(255,255,255,0.8);\n",
       "          box-shadow: 0 0 15px rgba(0,0,0,0.2);\n",
       "          border-radius: 5px;\n",
       "      }\n",
       "\n",
       "      .key path {\n",
       "        display: none;\n",
       "      }\n",
       "\n",
       "   </style>\n",
       "</head>\n",
       "\n",
       "<body>\n",
       "\n",
       "   <div id=&quot;map&quot; style=&quot;width: 1000px; height: 600px&quot;></div>\n",
       "\n",
       "   <script>\n",
       "\n",
       "      queue()\n",
       "          .defer(d3.json, 'data.json')\n",
       "          .defer(d3.json, 'data/sfn.geojson')\n",
       "          .await(makeMap)\n",
       "\n",
       "      function makeMap(error, data_1,gjson_1) {\n",
       "\n",
       "          \n",
       "\n",
       "          \n",
       "\n",
       "          function matchKey(datapoint, key_variable){\n",
       "              if (typeof key_variable[0][datapoint] === 'undefined') {\n",
       "                  return null;\n",
       "              }\n",
       "              else {\n",
       "                  return parseFloat(key_variable[0][datapoint]);\n",
       "              };\n",
       "          };\n",
       "\n",
       "          \n",
       "          var color = d3.scale.threshold()\n",
       "              .domain([0, 0.3, 0.4, 0.5, 1.0])\n",
       "              .range(['#FEF0D9', '#FDD49E', '#FDBB84', '#FC8D59', '#EF6548', '#D7301F']);\n",
       "          \n",
       "\n",
       "          var map = L.map('map').setView([37.77, -122.4], 12);\n",
       "\n",
       "          L.tileLayer('http://{s}.tile.openstreetmap.org/{z}/{x}/{y}.png', {\n",
       "              maxZoom: 18,\n",
       "              minZoom: 1,\n",
       "              attribution: 'Map data (c) <a href=&quot;http://openstreetmap.org&quot;>OpenStreetMap</a> contributors'\n",
       "          }).addTo(map);\n",
       "\n",
       "          \n",
       "\n",
       "          \n",
       "\n",
       "          \n",
       "\n",
       "          \n",
       "\n",
       "          \n",
       "\n",
       "          \n",
       "          function style_1(feature) {\n",
       "    return {\n",
       "        fillColor: color(matchKey(feature.properties.neighborho, data_1)),\n",
       "        weight: 1,\n",
       "        opacity: 0.6,\n",
       "        color: 'black',\n",
       "        fillOpacity: 0.6\n",
       "    };\n",
       "}\n",
       "          \n",
       "\n",
       "          \n",
       "          gJson_layer_1 = L.geoJson(gjson_1, {style: style_1}).addTo(map)\n",
       "          \n",
       "\n",
       "          \n",
       "              var legend = L.control({position: 'topright'});\n",
       "\n",
       "    legend.onAdd = function (map) {var div = L.DomUtil.create('div', 'legend'); return div};\n",
       "\n",
       "    legend.addTo(map);\n",
       "\n",
       "    var x = d3.scale.linear()\n",
       "    .domain([0, 1])\n",
       "    .range([0, 400]);\n",
       "\n",
       "    var xAxis = d3.svg.axis()\n",
       "        .scale(x)\n",
       "        .orient(&quot;top&quot;)\n",
       "        .tickSize(1)\n",
       "        .tickValues([0, 0.3, 0.4, 0.5, 1.0]);\n",
       "\n",
       "    var svg = d3.select(&quot;.legend.leaflet-control&quot;).append(&quot;svg&quot;)\n",
       "        .attr(&quot;id&quot;, 'legend')\n",
       "        .attr(&quot;width&quot;, 450)\n",
       "        .attr(&quot;height&quot;, 40);\n",
       "\n",
       "    var g = svg.append(&quot;g&quot;)\n",
       "        .attr(&quot;class&quot;, &quot;key&quot;)\n",
       "        .attr(&quot;transform&quot;, &quot;translate(25,16)&quot;);\n",
       "\n",
       "    g.selectAll(&quot;rect&quot;)\n",
       "        .data(color.range().map(function(d, i) {\n",
       "          return {\n",
       "            x0: i ? x(color.domain()[i - 1]) : x.range()[0],\n",
       "            x1: i < color.domain().length ? x(color.domain()[i]) : x.range()[1],\n",
       "            z: d\n",
       "          };\n",
       "        }))\n",
       "      .enter().append(&quot;rect&quot;)\n",
       "        .attr(&quot;height&quot;, 10)\n",
       "        .attr(&quot;x&quot;, function(d) { return d.x0; })\n",
       "        .attr(&quot;width&quot;, function(d) { return d.x1 - d.x0; })\n",
       "        .style(&quot;fill&quot;, function(d) { return d.z; });\n",
       "\n",
       "    g.call(xAxis).append(&quot;text&quot;)\n",
       "        .attr(&quot;class&quot;, &quot;caption&quot;)\n",
       "        .attr(&quot;y&quot;, 21)\n",
       "        .text('P(resolved)');\n",
       "          \n",
       "\n",
       "      };\n",
       "\n",
       "   </script>\n",
       "</body>\" style=\"width: 1000px; height: 600px; border: none\"></iframe>"
      ],
      "text/plain": [
       "<IPython.core.display.HTML object>"
      ]
     },
     "execution_count": 12,
     "metadata": {},
     "output_type": "execute_result"
    }
   ],
   "source": [
    "from IPython.display import HTML\n",
    "import folium\n",
    "\n",
    "map_width=1000\n",
    "map_height=600\n",
    "sf_lat = 37.77\n",
    "sf_long = -122.4\n",
    "\n",
    "def inline_map(m, width=map_width, height=map_height):\n",
    "    m.create_map()\n",
    "    srcdoc = m.HTML.replace('\"', '&quot;')\n",
    "    \n",
    "    embed = HTML('<iframe srcdoc=\"{}\" '\n",
    "                 'style=\"width: {}px; height: {}px; '\n",
    "                 'border: none\"></iframe>'.format(srcdoc, width, height))\n",
    "    return embed\n",
    "\n",
    "map_sf = folium.Map(location=[sf_lat, sf_long], zoom_start=12, width=map_width, height=map_height)\n",
    "map_sf.geo_json(geo_path='data/sfn.geojson', data=ngrp_pd,\n",
    "                columns=['neighborhood', '% resolved'],\n",
    "                key_on='feature.properties.neighborho',\n",
    "                threshold_scale=[0, 0.3, 0.4, 0.5, 1.0],\n",
    "                fill_color='OrRd', fill_opacity=0.6, line_opacity=0.6,\n",
    "                legend_name='P(resolved)')\n",
    "\n",
    "inline_map(map_sf)"
   ]
  },
  {
   "cell_type": "markdown",
   "metadata": {},
   "source": [
    "## Preparing The Feature Matrix"
   ]
  },
  {
   "cell_type": "markdown",
   "metadata": {},
   "source": [
    "First, some basic feature engineering work:\n",
    "1. Extract year and month values from the date field\n",
    "2. Extract hour from the time field"
   ]
  },
  {
   "cell_type": "code",
   "execution_count": 13,
   "metadata": {
    "collapsed": false
   },
   "outputs": [
    {
     "data": {
      "text/html": [
       "<div style=\"max-height:1000px;max-width:1500px;overflow:auto;\">\n",
       "<table border=\"1\" class=\"dataframe\">\n",
       "  <thead>\n",
       "    <tr style=\"text-align: right;\">\n",
       "      <th></th>\n",
       "      <th>year</th>\n",
       "      <th>month</th>\n",
       "      <th>hour</th>\n",
       "      <th>category</th>\n",
       "      <th>district</th>\n",
       "      <th>dayofweek</th>\n",
       "      <th>description</th>\n",
       "      <th>neighborhood</th>\n",
       "      <th>longitude</th>\n",
       "      <th>latitude</th>\n",
       "      <th>resolved</th>\n",
       "    </tr>\n",
       "  </thead>\n",
       "  <tbody>\n",
       "    <tr>\n",
       "      <th>0</th>\n",
       "      <td>2015</td>\n",
       "      <td>4</td>\n",
       "      <td>11</td>\n",
       "      <td>LARCENY/THEFT</td>\n",
       "      <td>RICHMOND</td>\n",
       "      <td>Thursday</td>\n",
       "      <td>GRAND THEFT FROM LOCKED AUTO</td>\n",
       "      <td>Seacliff</td>\n",
       "      <td>-122.513642064265</td>\n",
       "      <td>37.7784692199467</td>\n",
       "      <td>0</td>\n",
       "    </tr>\n",
       "    <tr>\n",
       "      <th>1</th>\n",
       "      <td>2015</td>\n",
       "      <td>3</td>\n",
       "      <td>16</td>\n",
       "      <td>MISSING PERSON</td>\n",
       "      <td>RICHMOND</td>\n",
       "      <td>Tuesday</td>\n",
       "      <td>FOUND PERSON</td>\n",
       "      <td>Seacliff</td>\n",
       "      <td>-122.50363781312</td>\n",
       "      <td>37.7812059887529</td>\n",
       "      <td>1</td>\n",
       "    </tr>\n",
       "    <tr>\n",
       "      <th>2</th>\n",
       "      <td>2015</td>\n",
       "      <td>3</td>\n",
       "      <td>12</td>\n",
       "      <td>WARRANTS</td>\n",
       "      <td>RICHMOND</td>\n",
       "      <td>Friday</td>\n",
       "      <td>ENROUTE TO OUTSIDE JURISDICTION</td>\n",
       "      <td>Seacliff</td>\n",
       "      <td>-122.509225626818</td>\n",
       "      <td>37.7770424617966</td>\n",
       "      <td>1</td>\n",
       "    </tr>\n",
       "    <tr>\n",
       "      <th>3</th>\n",
       "      <td>2015</td>\n",
       "      <td>2</td>\n",
       "      <td>16</td>\n",
       "      <td>LARCENY/THEFT</td>\n",
       "      <td>RICHMOND</td>\n",
       "      <td>Monday</td>\n",
       "      <td>PETTY THEFT FROM LOCKED AUTO</td>\n",
       "      <td>Seacliff</td>\n",
       "      <td>-122.513642064265</td>\n",
       "      <td>37.7784692199467</td>\n",
       "      <td>0</td>\n",
       "    </tr>\n",
       "    <tr>\n",
       "      <th>4</th>\n",
       "      <td>2014</td>\n",
       "      <td>12</td>\n",
       "      <td>9</td>\n",
       "      <td>LARCENY/THEFT</td>\n",
       "      <td>RICHMOND</td>\n",
       "      <td>Saturday</td>\n",
       "      <td>GRAND THEFT FROM LOCKED AUTO</td>\n",
       "      <td>Seacliff</td>\n",
       "      <td>-122.513642064265</td>\n",
       "      <td>37.7784692199467</td>\n",
       "      <td>0</td>\n",
       "    </tr>\n",
       "  </tbody>\n",
       "</table>\n",
       "</div>"
      ],
      "text/plain": [
       "   year  month  hour        category  district dayofweek  \\\n",
       "0  2015      4    11   LARCENY/THEFT  RICHMOND  Thursday   \n",
       "1  2015      3    16  MISSING PERSON  RICHMOND   Tuesday   \n",
       "2  2015      3    12        WARRANTS  RICHMOND    Friday   \n",
       "3  2015      2    16   LARCENY/THEFT  RICHMOND    Monday   \n",
       "4  2014     12     9   LARCENY/THEFT  RICHMOND  Saturday   \n",
       "\n",
       "                       description neighborhood          longitude  \\\n",
       "0     GRAND THEFT FROM LOCKED AUTO     Seacliff  -122.513642064265   \n",
       "1                     FOUND PERSON     Seacliff   -122.50363781312   \n",
       "2  ENROUTE TO OUTSIDE JURISDICTION     Seacliff  -122.509225626818   \n",
       "3     PETTY THEFT FROM LOCKED AUTO     Seacliff  -122.513642064265   \n",
       "4     GRAND THEFT FROM LOCKED AUTO     Seacliff  -122.513642064265   \n",
       "\n",
       "           latitude  resolved  \n",
       "0  37.7784692199467         0  \n",
       "1  37.7812059887529         1  \n",
       "2  37.7770424617966         1  \n",
       "3  37.7784692199467         0  \n",
       "4  37.7784692199467         0  "
      ]
     },
     "execution_count": 13,
     "metadata": {},
     "output_type": "execute_result"
    }
   ],
   "source": [
    "import pandas as pd\n",
    "\n",
    "crimes3 = hc.sql(\"\"\"\n",
    "SELECT  cast(SUBSTR(date_str,7,4) as int) as year, \n",
    "        cast(SUBSTR(date_str,1,2) as int) as month, \n",
    "        cast(SUBSTR(time,1,2) as int) as hour,\n",
    "        category, district, dayofweek, description, neighborhood, longitude, latitude, resolved\n",
    "FROM crimes2\n",
    "\"\"\").cache()\n",
    "crimes3.limit(5).toPandas()"
   ]
  },
  {
   "cell_type": "markdown",
   "metadata": {},
   "source": [
    "For this demo, I create a training set for my model from the data in years 2011-2013 and a testing/validation set from the data in year 2014."
   ]
  },
  {
   "cell_type": "code",
   "execution_count": 14,
   "metadata": {
    "collapsed": false
   },
   "outputs": [
    {
     "name": "stdout",
     "output_type": "stream",
     "text": [
      "training set has 426306 instances\n",
      "test set has 150155 instances\n"
     ]
    }
   ],
   "source": [
    "trainData = crimes3.filter(crimes3.year>=2011).filter(crimes3.year<=2013).cache()\n",
    "testData = crimes3.filter(crimes3.year==2014).cache()\n",
    "print \"training set has \" + str(trainData.count()) + \" instances\"\n",
    "print \"test set has \" + str(testData.count()) + \" instances\""
   ]
  },
  {
   "cell_type": "markdown",
   "metadata": {},
   "source": [
    "For convenience, I define a function to compute our classification metrics (we will use it later): precision, recall and accuracy"
   ]
  },
  {
   "cell_type": "code",
   "execution_count": 15,
   "metadata": {
    "collapsed": false
   },
   "outputs": [],
   "source": [
    "def eval_metrics(lap):\n",
    "    tp = float(len(lap[(lap['label']==1) & (lap['prediction']==1)]))\n",
    "    tn = float(len(lap[(lap['label']==0) & (lap['prediction']==0)]))\n",
    "    fp = float(len(lap[(lap['label']==0) & (lap['prediction']==1)]))\n",
    "    fn = float(len(lap[(lap['label']==1) & (lap['prediction']==0)]))\n",
    "    precision = tp / (tp+fp)\n",
    "    recall = tp / (tp+fn)\n",
    "    accuracy = (tp+tn) / (tp+tn+fp+fn)\n",
    "    return {'precision': precision, 'recall': recall, 'accuracy': accuracy}"
   ]
  },
  {
   "cell_type": "markdown",
   "metadata": {},
   "source": [
    "Next, I use Spark-ML to create a pipeline of transformation to generate the feature vector for each crime event:\n",
    "- Converting each string variable (e.g., category, dayofweek, etc) to a categorical variable\n",
    "- Converting the \"description\" field to a set of word features using Tokenizer() and HashingTF()\n",
    "- Convert \"resolved\" (float) into a categorical variable \"label\"\n",
    "- Assembling all the features into the a single feature vector (Vector Assembler)"
   ]
  },
  {
   "cell_type": "code",
   "execution_count": 16,
   "metadata": {
    "collapsed": false
   },
   "outputs": [
    {
     "data": {
      "image/png": "[encoded data removed]",
      "text/plain": [
       "<IPython.core.display.Image object>"
      ]
     },
     "execution_count": 16,
     "metadata": {},
     "output_type": "execute_result"
    }
   ],
   "source": [
    "from IPython.display import Image\n",
    "Image(filename='pipeline.png')"
   ]
  },
  {
   "cell_type": "code",
   "execution_count": 17,
   "metadata": {
    "collapsed": false
   },
   "outputs": [],
   "source": [
    "from pyspark.ml.feature import StringIndexer, VectorAssembler, Tokenizer, HashingTF\n",
    "from pyspark.ml import Pipeline\n",
    "\n",
    "inx1 = StringIndexer(inputCol=\"category\", outputCol=\"cat-inx\")\n",
    "inx2 = StringIndexer(inputCol=\"dayofweek\", outputCol=\"dow-inx\")\n",
    "inx3 = StringIndexer(inputCol=\"district\", outputCol=\"dis-inx\")\n",
    "inx4 = StringIndexer(inputCol=\"neighborhood\", outputCol=\"ngh-inx\")\n",
    "inx5 = StringIndexer(inputCol=\"resolved\", outputCol=\"label\")\n",
    "parser = Tokenizer(inputCol=\"description\", outputCol=\"words\")\n",
    "hashingTF = HashingTF(numFeatures=50, inputCol=\"words\", outputCol=\"hash-inx\")\n",
    "vecAssembler = VectorAssembler(inputCols =[\"month\", \"hour\", \"cat-inx\", \"dow-inx\", \"dis-inx\", \"ngh-inx\", \"hash-inx\"], \n",
    "                               outputCol=\"features\")"
   ]
  },
  {
   "cell_type": "markdown",
   "metadata": {},
   "source": [
    "## Predictive Models: Logistic Regression and Random Forest"
   ]
  },
  {
   "cell_type": "markdown",
   "metadata": {},
   "source": [
    "Finish up the end-to-end pipeline and run the training set through it. The resulting model is in the model_lr variable, and is used to predict on the testData.\n",
    "\n",
    "I use the previously defined eval_metrics() function to compute precision, recall, and accuracy"
   ]
  },
  {
   "cell_type": "code",
   "execution_count": 18,
   "metadata": {
    "collapsed": false
   },
   "outputs": [
    {
     "name": "stdout",
     "output_type": "stream",
     "text": [
      "precision = 0.758149655478, recall = 0.690560082214, accuracy = 0.807758649396\n"
     ]
    }
   ],
   "source": [
    "from pyspark.ml.classification import LogisticRegression\n",
    "\n",
    "lr = LogisticRegression(maxIter=20, regParam=0.1, labelCol=\"label\")\n",
    "pipeline_lr = Pipeline(stages=[inx1, inx2, inx3, inx4, inx5, parser, hashingTF, vecAssembler, lr])\n",
    "model_lr = pipeline_lr.fit(trainData)\n",
    "results_lr = model_lr.transform(testData)\n",
    "\n",
    "m = eval_metrics(results_lr.select(\"label\", \"prediction\").toPandas())\n",
    "print \"precision = \" + str(m['precision']) + \", recall = \" + str(m['recall']) + \", accuracy = \" + str(m['accuracy'])"
   ]
  },
  {
   "cell_type": "markdown",
   "metadata": {},
   "source": [
    "Similarly, create the same pipeline with the Random Forest classifier:"
   ]
  },
  {
   "cell_type": "code",
   "execution_count": 19,
   "metadata": {
    "collapsed": false,
    "scrolled": false
   },
   "outputs": [
    {
     "name": "stdout",
     "output_type": "stream",
     "text": [
      "precision = 0.807915479483, recall = 0.712893635763, accuracy = 0.834297892178\n"
     ]
    }
   ],
   "source": [
    "from pyspark.ml.classification import RandomForestClassifier\n",
    "\n",
    "rf = RandomForestClassifier(numTrees=250, maxDepth=5, maxBins=50, seed=42)\n",
    "pipeline_rf = Pipeline(stages=[inx1, inx2, inx3, inx4, inx5, parser, hashingTF, vecAssembler, rf])\n",
    "model_rf = pipeline_rf.fit(trainData)\n",
    "results_rf = model_rf.transform(testData)\n",
    "\n",
    "m = eval_metrics(results_rf.select(\"label\", \"prediction\").toPandas())\n",
    "print \"precision = \" + str(m['precision']) + \", recall = \" + str(m['recall']) + \", accuracy = \" + str(m['accuracy'])"
   ]
  },
  {
   "cell_type": "markdown",
   "metadata": {},
   "source": [
    "## Measure Model Accuracy Per Neighborhood\n",
    "\n",
    "I would like to also show the accuracy of the model for each neighborhood.\n",
    "For this, I compute the centroid for each neighborhood, using ESRI's ST_Centroid() HIVE UDF"
   ]
  },
  {
   "cell_type": "code",
   "execution_count": 20,
   "metadata": {
    "collapsed": false
   },
   "outputs": [
    {
     "data": {
      "text/plain": [
       "DataFrame[neighborhood: string, cent_longitude: double, cent_latitude: double]"
      ]
     },
     "execution_count": 20,
     "metadata": {},
     "output_type": "execute_result"
    }
   ],
   "source": [
    "hc.sql(\"add jar /home/jupyter/notebooks/jars/guava-11.0.2.jar\")\n",
    "hc.sql(\"add jar /home/jupyter/notebooks/jars/esri-geometry-api.jar\")\n",
    "hc.sql(\"add jar /home/jupyter/notebooks/jars/spatial-sdk-hive.jar\")\n",
    "hc.sql(\"add jar /home/jupyter/notebooks/jars/spatial-sdk-json.jar\")\n",
    "\n",
    "hc.sql(\"create temporary function ST_Centroid as 'com.esri.hadoop.hive.ST_Centroid'\")\n",
    "hc.sql(\"create temporary function ST_X as 'com.esri.hadoop.hive.ST_X'\")\n",
    "hc.sql(\"create temporary function ST_Y as 'com.esri.hadoop.hive.ST_Y'\")\n",
    "\n",
    "df_centroid = hc.sql(\"\"\"\n",
    "SELECT neighborho as neighborhood, \n",
    "       ST_X(ST_Centroid(sf_neighborhoods.shape)) as cent_longitude,\n",
    "       ST_Y(ST_Centroid(sf_neighborhoods.shape)) as cent_latitude\n",
    "FROM sf_neighborhoods\n",
    "\"\"\")\n",
    "df_centroid.cache()"
   ]
  },
  {
   "cell_type": "markdown",
   "metadata": {},
   "source": [
    "Now I draw a map, this time showing a marker with the accuracy for each neighborhood, using the results from the Random Forest model."
   ]
  },
  {
   "cell_type": "code",
   "execution_count": 21,
   "metadata": {
    "collapsed": false
   },
   "outputs": [
    {
     "data": {
      "text/html": [
       "<iframe srcdoc=\"<!DOCTYPE html>\n",
       "<head>\n",
       "   <meta http-equiv=&quot;content-type&quot; content=&quot;text/html; charset=UTF-8&quot; />\n",
       "   <link rel=&quot;stylesheet&quot; href=&quot;//cdnjs.cloudflare.com/ajax/libs/leaflet/0.7.3/leaflet.css&quot; />\n",
       "   <script src=&quot;//cdnjs.cloudflare.com/ajax/libs/leaflet/0.7.3/leaflet.js&quot;></script>\n",
       "\n",
       "   <script src=&quot;//ajax.googleapis.com/ajax/libs/jquery/1.11.1/jquery.min.js&quot;></script>\n",
       "\n",
       "   <link rel=&quot;stylesheet&quot; href=&quot;//maxcdn.bootstrapcdn.com/bootstrap/3.2.0/css/bootstrap.min.css&quot;>\n",
       "   <link rel=&quot;stylesheet&quot; href=&quot;//maxcdn.bootstrapcdn.com/bootstrap/3.2.0/css/bootstrap-theme.min.css&quot;>\n",
       "   <script src=&quot;//maxcdn.bootstrapcdn.com/bootstrap/3.2.0/js/bootstrap.min.js&quot;></script>\n",
       "\n",
       "   <link href=&quot;//maxcdn.bootstrapcdn.com/font-awesome/4.1.0/css/font-awesome.min.css&quot; rel=&quot;stylesheet&quot;>\n",
       "\n",
       "   <link rel=&quot;stylesheet&quot; href=&quot;//rawgit.com/lvoogdt/Leaflet.awesome-markers/2.0/develop/dist/leaflet.awesome-markers.css&quot;>\n",
       "   <script src=&quot;//rawgithub.com/lvoogdt/Leaflet.awesome-markers/2.0/develop/dist/leaflet.awesome-markers.js&quot;></script>\n",
       "\n",
       "\n",
       "   <link rel=&quot;stylesheet&quot; href=&quot;//cdnjs.cloudflare.com/ajax/libs/leaflet.markercluster/0.4.0/MarkerCluster.Default.css&quot;>\n",
       "   <link rel=&quot;stylesheet&quot; href=&quot;//cdnjs.cloudflare.com/ajax/libs/leaflet.markercluster/0.4.0/MarkerCluster.css&quot;>\n",
       "   <script src=&quot;//cdnjs.cloudflare.com/ajax/libs/leaflet.markercluster/0.4.0/leaflet.markercluster-src.js&quot;></script>\n",
       "   <script src=&quot;//cdnjs.cloudflare.com/ajax/libs/leaflet.markercluster/0.4.0/leaflet.markercluster.js&quot;></script>\n",
       "\n",
       "   <link rel=&quot;stylesheet&quot; href=&quot;//birdage.github.io/Leaflet.awesome-markers/dist/leaflet.awesome.rotate.css&quot;>\n",
       "\n",
       "   \n",
       "   \n",
       "   \n",
       "   \n",
       "\n",
       "   <style>\n",
       "\n",
       "      html, body {\n",
       "        width: 100%;\n",
       "        height: 100%;\n",
       "        margin: 0;\n",
       "        padding: 0;\n",
       "      }\n",
       "\n",
       "      #map {\n",
       "        position:absolute;\n",
       "        top:0;\n",
       "        bottom:0;\n",
       "        right:0;\n",
       "        left:0;\n",
       "      }\n",
       "\n",
       "   </style>\n",
       "</head>\n",
       "\n",
       "<body>\n",
       "\n",
       "   <div class=&quot;folium-map&quot; id=&quot;folium_24f9e21b443a4c6ca685d31ace7bfca0&quot; style=&quot;width: 1000px; height: 600px&quot;></div>\n",
       "\n",
       "   <script>\n",
       "\n",
       "      \n",
       "\n",
       "      var base_tile = L.tileLayer('http://{s}.tile.openstreetmap.org/{z}/{x}/{y}.png', {\n",
       "          maxZoom: 18,\n",
       "          minZoom: 1,\n",
       "          attribution: 'Map data (c) <a href=&quot;http://openstreetmap.org&quot;>OpenStreetMap</a> contributors'\n",
       "      });\n",
       "\n",
       "      var baseLayer = {\n",
       "        &quot;Base Layer&quot;: base_tile\n",
       "      };\n",
       "\n",
       "      /*\n",
       "      addition of the wms layers\n",
       "      */\n",
       "\n",
       "      \n",
       "\n",
       "      /*\n",
       "      addition of the tile layers\n",
       "      */\n",
       "      \n",
       "\n",
       "      /*\n",
       "      list of layers to be added\n",
       "      */\n",
       "      var layer_list = {\n",
       "      \n",
       "      };\n",
       "\n",
       "      /*\n",
       "      Bounding box.\n",
       "      */\n",
       "      var southWest = L.latLng(-90, -180),\n",
       "          northEast = L.latLng(90, 180),\n",
       "          bounds = L.latLngBounds(southWest, northEast);\n",
       "\n",
       "      /*\n",
       "      Creates the map and adds the selected layers\n",
       "      */\n",
       "      var map = L.map('folium_24f9e21b443a4c6ca685d31ace7bfca0', {\n",
       "                                       center:[37.77, -122.4],\n",
       "                                       zoom: 12,\n",
       "                                       maxBounds: bounds,\n",
       "                                       layers: [base_tile]\n",
       "                                     });\n",
       "\n",
       "      L.control.layers(baseLayer, layer_list).addTo(map);\n",
       "\n",
       "      //cluster group\n",
       "      var clusteredmarkers = L.markerClusterGroup();\n",
       "      //section for adding clustered markers\n",
       "      \n",
       "      //add the clustered markers to the group anyway\n",
       "      map.addLayer(clusteredmarkers);\n",
       "\n",
       "      \n",
       "      var marker_1_icon = L.AwesomeMarkers.icon({ icon: 'info-sign',markerColor: 'blue',prefix: 'glyphicon',extraClasses: 'fa-rotate-0'});\n",
       "      var marker_1 = L.marker([37.782782435, \n",
       "\t\t\t\t\t\t\t-122.499317913],\n",
       "\t\t\t\t\t\t\t{'icon':marker_1_icon}\n",
       "\t\t\t\t\t\t\t);\n",
       "      marker_1.bindPopup(&quot;Seacliff: accuracy = 0.91&quot;);\n",
       "      marker_1._popup.options.maxWidth = 300;\n",
       "      map.addLayer(marker_1)\n",
       "      \n",
       "      var marker_2_icon = L.AwesomeMarkers.icon({ icon: 'info-sign',markerColor: 'blue',prefix: 'glyphicon',extraClasses: 'fa-rotate-0'});\n",
       "      var marker_2 = L.marker([37.7678114185, \n",
       "\t\t\t\t\t\t\t-122.445340843],\n",
       "\t\t\t\t\t\t\t{'icon':marker_2_icon}\n",
       "\t\t\t\t\t\t\t);\n",
       "      marker_2.bindPopup(&quot;Haight Ashbury: accuracy = 0.79&quot;);\n",
       "      marker_2._popup.options.maxWidth = 300;\n",
       "      map.addLayer(marker_2)\n",
       "      \n",
       "      var marker_3_icon = L.AwesomeMarkers.icon({ icon: 'info-sign',markerColor: 'blue',prefix: 'glyphicon',extraClasses: 'fa-rotate-0'});\n",
       "      var marker_3 = L.marker([37.7220636055, \n",
       "\t\t\t\t\t\t\t-122.443648334],\n",
       "\t\t\t\t\t\t\t{'icon':marker_3_icon}\n",
       "\t\t\t\t\t\t\t);\n",
       "      marker_3.bindPopup(&quot;Outer Mission: accuracy = 0.83&quot;);\n",
       "      marker_3._popup.options.maxWidth = 300;\n",
       "      map.addLayer(marker_3)\n",
       "      \n",
       "      var marker_4_icon = L.AwesomeMarkers.icon({ icon: 'info-sign',markerColor: 'blue',prefix: 'glyphicon',extraClasses: 'fa-rotate-0'});\n",
       "      var marker_4 = L.marker([37.8032654845, \n",
       "\t\t\t\t\t\t\t-122.416792059],\n",
       "\t\t\t\t\t\t\t{'icon':marker_4_icon}\n",
       "\t\t\t\t\t\t\t);\n",
       "      marker_4.bindPopup(&quot;Russian Hill: accuracy = 0.87&quot;);\n",
       "      marker_4._popup.options.maxWidth = 300;\n",
       "      map.addLayer(marker_4)\n",
       "      \n",
       "      var marker_5_icon = L.AwesomeMarkers.icon({ icon: 'info-sign',markerColor: 'blue',prefix: 'glyphicon',extraClasses: 'fa-rotate-0'});\n",
       "      var marker_5 = L.marker([37.7490432725, \n",
       "\t\t\t\t\t\t\t-122.434489842],\n",
       "\t\t\t\t\t\t\t{'icon':marker_5_icon}\n",
       "\t\t\t\t\t\t\t);\n",
       "      marker_5.bindPopup(&quot;Noe Valley: accuracy = 0.86&quot;);\n",
       "      marker_5._popup.options.maxWidth = 300;\n",
       "      map.addLayer(marker_5)\n",
       "      \n",
       "      var marker_6_icon = L.AwesomeMarkers.icon({ icon: 'info-sign',markerColor: 'blue',prefix: 'glyphicon',extraClasses: 'fa-rotate-0'});\n",
       "      var marker_6 = L.marker([37.7575308685, \n",
       "\t\t\t\t\t\t\t-122.464315596],\n",
       "\t\t\t\t\t\t\t{'icon':marker_6_icon}\n",
       "\t\t\t\t\t\t\t);\n",
       "      marker_6.bindPopup(&quot;Inner Sunset: accuracy = 0.85&quot;);\n",
       "      marker_6._popup.options.maxWidth = 300;\n",
       "      map.addLayer(marker_6)\n",
       "      \n",
       "      var marker_7_icon = L.AwesomeMarkers.icon({ icon: 'info-sign',markerColor: 'blue',prefix: 'glyphicon',extraClasses: 'fa-rotate-0'});\n",
       "      var marker_7 = L.marker([37.781635803, \n",
       "\t\t\t\t\t\t\t-122.415084549],\n",
       "\t\t\t\t\t\t\t{'icon':marker_7_icon}\n",
       "\t\t\t\t\t\t\t);\n",
       "      marker_7.bindPopup(&quot;Downtown/Civic Center: accuracy = 0.83&quot;);\n",
       "      marker_7._popup.options.maxWidth = 300;\n",
       "      map.addLayer(marker_7)\n",
       "      \n",
       "      var marker_8_icon = L.AwesomeMarkers.icon({ icon: 'info-sign',markerColor: 'blue',prefix: 'glyphicon',extraClasses: 'fa-rotate-0'});\n",
       "      var marker_8 = L.marker([37.741049297, \n",
       "\t\t\t\t\t\t\t-122.44362719],\n",
       "\t\t\t\t\t\t\t{'icon':marker_8_icon}\n",
       "\t\t\t\t\t\t\t);\n",
       "      marker_8.bindPopup(&quot;Diamond Heights: accuracy = 0.86&quot;);\n",
       "      marker_8._popup.options.maxWidth = 300;\n",
       "      map.addLayer(marker_8)\n",
       "      \n",
       "      var marker_9_icon = L.AwesomeMarkers.icon({ icon: 'info-sign',markerColor: 'blue',prefix: 'glyphicon',extraClasses: 'fa-rotate-0'});\n",
       "      var marker_9 = L.marker([37.8201536755, \n",
       "\t\t\t\t\t\t\t-122.369000318],\n",
       "\t\t\t\t\t\t\t{'icon':marker_9_icon}\n",
       "\t\t\t\t\t\t\t);\n",
       "      marker_9.bindPopup(&quot;Treasure Island/YBI: accuracy = 0.84&quot;);\n",
       "      marker_9._popup.options.maxWidth = 300;\n",
       "      map.addLayer(marker_9)\n",
       "      \n",
       "      var marker_10_icon = L.AwesomeMarkers.icon({ icon: 'info-sign',markerColor: 'blue',prefix: 'glyphicon',extraClasses: 'fa-rotate-0'});\n",
       "      var marker_10 = L.marker([37.7233220945, \n",
       "\t\t\t\t\t\t\t-122.488795526],\n",
       "\t\t\t\t\t\t\t{'icon':marker_10_icon}\n",
       "\t\t\t\t\t\t\t);\n",
       "      marker_10.bindPopup(&quot;Lakeshore: accuracy = 0.81&quot;);\n",
       "      marker_10._popup.options.maxWidth = 300;\n",
       "      map.addLayer(marker_10)\n",
       "      \n",
       "      var marker_11_icon = L.AwesomeMarkers.icon({ icon: 'info-sign',markerColor: 'blue',prefix: 'glyphicon',extraClasses: 'fa-rotate-0'});\n",
       "      var marker_11 = L.marker([37.77956716, \n",
       "\t\t\t\t\t\t\t-122.495511684],\n",
       "\t\t\t\t\t\t\t{'icon':marker_11_icon}\n",
       "\t\t\t\t\t\t\t);\n",
       "      marker_11.bindPopup(&quot;Outer Richmond: accuracy = 0.82&quot;);\n",
       "      marker_11._popup.options.maxWidth = 300;\n",
       "      map.addLayer(marker_11)\n",
       "      \n",
       "      var marker_12_icon = L.AwesomeMarkers.icon({ icon: 'info-sign',markerColor: 'blue',prefix: 'glyphicon',extraClasses: 'fa-rotate-0'});\n",
       "      var marker_12 = L.marker([37.7123436865, \n",
       "\t\t\t\t\t\t\t-122.437579997],\n",
       "\t\t\t\t\t\t\t{'icon':marker_12_icon}\n",
       "\t\t\t\t\t\t\t);\n",
       "      marker_12.bindPopup(&quot;Crocker Amazon: accuracy = 0.80&quot;);\n",
       "      marker_12._popup.options.maxWidth = 300;\n",
       "      map.addLayer(marker_12)\n",
       "      \n",
       "      var marker_13_icon = L.AwesomeMarkers.icon({ icon: 'info-sign',markerColor: 'blue',prefix: 'glyphicon',extraClasses: 'fa-rotate-0'});\n",
       "      var marker_13 = L.marker([37.7241318935, \n",
       "\t\t\t\t\t\t\t-122.420970386],\n",
       "\t\t\t\t\t\t\t{'icon':marker_13_icon}\n",
       "\t\t\t\t\t\t\t);\n",
       "      marker_13.bindPopup(&quot;Excelsior: accuracy = 0.82&quot;);\n",
       "      marker_13._popup.options.maxWidth = 300;\n",
       "      map.addLayer(marker_13)\n",
       "      \n",
       "      var marker_14_icon = L.AwesomeMarkers.icon({ icon: 'info-sign',markerColor: 'blue',prefix: 'glyphicon',extraClasses: 'fa-rotate-0'});\n",
       "      var marker_14 = L.marker([37.741378335, \n",
       "\t\t\t\t\t\t\t-122.489560371],\n",
       "\t\t\t\t\t\t\t{'icon':marker_14_icon}\n",
       "\t\t\t\t\t\t\t);\n",
       "      marker_14.bindPopup(&quot;Parkside: accuracy = 0.81&quot;);\n",
       "      marker_14._popup.options.maxWidth = 300;\n",
       "      map.addLayer(marker_14)\n",
       "      \n",
       "      var marker_15_icon = L.AwesomeMarkers.icon({ icon: 'info-sign',markerColor: 'blue',prefix: 'glyphicon',extraClasses: 'fa-rotate-0'});\n",
       "      var marker_15 = L.marker([37.791095244, \n",
       "\t\t\t\t\t\t\t-122.398257955],\n",
       "\t\t\t\t\t\t\t{'icon':marker_15_icon}\n",
       "\t\t\t\t\t\t\t);\n",
       "      marker_15.bindPopup(&quot;Financial District: accuracy = 0.83&quot;);\n",
       "      marker_15._popup.options.maxWidth = 300;\n",
       "      map.addLayer(marker_15)\n",
       "      \n",
       "      var marker_16_icon = L.AwesomeMarkers.icon({ icon: 'info-sign',markerColor: 'blue',prefix: 'glyphicon',extraClasses: 'fa-rotate-0'});\n",
       "      var marker_16 = L.marker([37.719620315, \n",
       "\t\t\t\t\t\t\t-122.459621744],\n",
       "\t\t\t\t\t\t\t{'icon':marker_16_icon}\n",
       "\t\t\t\t\t\t\t);\n",
       "      marker_16.bindPopup(&quot;Ocean View: accuracy = 0.83&quot;);\n",
       "      marker_16._popup.options.maxWidth = 300;\n",
       "      map.addLayer(marker_16)\n",
       "      \n",
       "      var marker_17_icon = L.AwesomeMarkers.icon({ icon: 'info-sign',markerColor: 'blue',prefix: 'glyphicon',extraClasses: 'fa-rotate-0'});\n",
       "      var marker_17 = L.marker([37.7599666285, \n",
       "\t\t\t\t\t\t\t-122.414839046],\n",
       "\t\t\t\t\t\t\t{'icon':marker_17_icon}\n",
       "\t\t\t\t\t\t\t);\n",
       "      marker_17.bindPopup(&quot;Mission: accuracy = 0.80&quot;);\n",
       "      marker_17._popup.options.maxWidth = 300;\n",
       "      map.addLayer(marker_17)\n",
       "      \n",
       "      var marker_18_icon = L.AwesomeMarkers.icon({ icon: 'info-sign',markerColor: 'blue',prefix: 'glyphicon',extraClasses: 'fa-rotate-0'});\n",
       "      var marker_18 = L.marker([37.7380533925, \n",
       "\t\t\t\t\t\t\t-122.456741216],\n",
       "\t\t\t\t\t\t\t{'icon':marker_18_icon}\n",
       "\t\t\t\t\t\t\t);\n",
       "      marker_18.bindPopup(&quot;West of Twin Peaks: accuracy = 0.85&quot;);\n",
       "      marker_18._popup.options.maxWidth = 300;\n",
       "      map.addLayer(marker_18)\n",
       "      \n",
       "      var marker_19_icon = L.AwesomeMarkers.icon({ icon: 'info-sign',markerColor: 'blue',prefix: 'glyphicon',extraClasses: 'fa-rotate-0'});\n",
       "      var marker_19 = L.marker([37.7809604935, \n",
       "\t\t\t\t\t\t\t-122.462609285],\n",
       "\t\t\t\t\t\t\t{'icon':marker_19_icon}\n",
       "\t\t\t\t\t\t\t);\n",
       "      marker_19.bindPopup(&quot;Inner Richmond: accuracy = 0.87&quot;);\n",
       "      marker_19._popup.options.maxWidth = 300;\n",
       "      map.addLayer(marker_19)\n",
       "      \n",
       "      var marker_20_icon = L.AwesomeMarkers.icon({ icon: 'info-sign',markerColor: 'blue',prefix: 'glyphicon',extraClasses: 'fa-rotate-0'});\n",
       "      var marker_20 = L.marker([37.8019824715, \n",
       "\t\t\t\t\t\t\t-122.436699357],\n",
       "\t\t\t\t\t\t\t{'icon':marker_20_icon}\n",
       "\t\t\t\t\t\t\t);\n",
       "      marker_20.bindPopup(&quot;Marina: accuracy = 0.89&quot;);\n",
       "      marker_20._popup.options.maxWidth = 300;\n",
       "      map.addLayer(marker_20)\n",
       "      \n",
       "      var marker_21_icon = L.AwesomeMarkers.icon({ icon: 'info-sign',markerColor: 'blue',prefix: 'glyphicon',extraClasses: 'fa-rotate-0'});\n",
       "      var marker_21 = L.marker([37.730321607, \n",
       "\t\t\t\t\t\t\t-122.382533262],\n",
       "\t\t\t\t\t\t\t{'icon':marker_21_icon}\n",
       "\t\t\t\t\t\t\t);\n",
       "      marker_21.bindPopup(&quot;Bayview: accuracy = 0.80&quot;);\n",
       "      marker_21._popup.options.maxWidth = 300;\n",
       "      map.addLayer(marker_21)\n",
       "      \n",
       "      var marker_22_icon = L.AwesomeMarkers.icon({ icon: 'info-sign',markerColor: 'blue',prefix: 'glyphicon',extraClasses: 'fa-rotate-0'});\n",
       "      var marker_22 = L.marker([37.7163241115, \n",
       "\t\t\t\t\t\t\t-122.414249511],\n",
       "\t\t\t\t\t\t\t{'icon':marker_22_icon}\n",
       "\t\t\t\t\t\t\t);\n",
       "      marker_22.bindPopup(&quot;Visitacion Valley: accuracy = 0.80&quot;);\n",
       "      marker_22._popup.options.maxWidth = 300;\n",
       "      map.addLayer(marker_22)\n",
       "      \n",
       "      var marker_23_icon = L.AwesomeMarkers.icon({ icon: 'info-sign',markerColor: 'blue',prefix: 'glyphicon',extraClasses: 'fa-rotate-0'});\n",
       "      var marker_23 = L.marker([37.792433242, \n",
       "\t\t\t\t\t\t\t-122.435007762],\n",
       "\t\t\t\t\t\t\t{'icon':marker_23_icon}\n",
       "\t\t\t\t\t\t\t);\n",
       "      marker_23.bindPopup(&quot;Pacific Heights: accuracy = 0.87&quot;);\n",
       "      marker_23._popup.options.maxWidth = 300;\n",
       "      map.addLayer(marker_23)\n",
       "      \n",
       "      var marker_24_icon = L.AwesomeMarkers.icon({ icon: 'info-sign',markerColor: 'blue',prefix: 'glyphicon',extraClasses: 'fa-rotate-0'});\n",
       "      var marker_24 = L.marker([37.798949717, \n",
       "\t\t\t\t\t\t\t-122.466241673],\n",
       "\t\t\t\t\t\t\t{'icon':marker_24_icon}\n",
       "\t\t\t\t\t\t\t);\n",
       "      marker_24.bindPopup(&quot;Presidio: accuracy = 0.94&quot;);\n",
       "      marker_24._popup.options.maxWidth = 300;\n",
       "      map.addLayer(marker_24)\n",
       "      \n",
       "      var marker_25_icon = L.AwesomeMarkers.icon({ icon: 'info-sign',markerColor: 'blue',prefix: 'glyphicon',extraClasses: 'fa-rotate-0'});\n",
       "      var marker_25 = L.marker([37.792948702, \n",
       "\t\t\t\t\t\t\t-122.4161253],\n",
       "\t\t\t\t\t\t\t{'icon':marker_25_icon}\n",
       "\t\t\t\t\t\t\t);\n",
       "      marker_25.bindPopup(&quot;Nob Hill: accuracy = 0.86&quot;);\n",
       "      marker_25._popup.options.maxWidth = 300;\n",
       "      map.addLayer(marker_25)\n",
       "      \n",
       "      var marker_26_icon = L.AwesomeMarkers.icon({ icon: 'info-sign',markerColor: 'blue',prefix: 'glyphicon',extraClasses: 'fa-rotate-0'});\n",
       "      var marker_26 = L.marker([37.7553518285, \n",
       "\t\t\t\t\t\t\t-122.494205244],\n",
       "\t\t\t\t\t\t\t{'icon':marker_26_icon}\n",
       "\t\t\t\t\t\t\t);\n",
       "      marker_26.bindPopup(&quot;Outer Sunset: accuracy = 0.84&quot;);\n",
       "      marker_26._popup.options.maxWidth = 300;\n",
       "      map.addLayer(marker_26)\n",
       "      \n",
       "      var marker_27_icon = L.AwesomeMarkers.icon({ icon: 'info-sign',markerColor: 'blue',prefix: 'glyphicon',extraClasses: 'fa-rotate-0'});\n",
       "      var marker_27 = L.marker([37.779699068, \n",
       "\t\t\t\t\t\t\t-122.434354757],\n",
       "\t\t\t\t\t\t\t{'icon':marker_27_icon}\n",
       "\t\t\t\t\t\t\t);\n",
       "      marker_27.bindPopup(&quot;Western Addition: accuracy = 0.86&quot;);\n",
       "      marker_27._popup.options.maxWidth = 300;\n",
       "      map.addLayer(marker_27)\n",
       "      \n",
       "      var marker_28_icon = L.AwesomeMarkers.icon({ icon: 'info-sign',markerColor: 'blue',prefix: 'glyphicon',extraClasses: 'fa-rotate-0'});\n",
       "      var marker_28 = L.marker([37.7693168855, \n",
       "\t\t\t\t\t\t\t-122.483093721],\n",
       "\t\t\t\t\t\t\t{'icon':marker_28_icon}\n",
       "\t\t\t\t\t\t\t);\n",
       "      marker_28.bindPopup(&quot;Golden Gate Park: accuracy = 0.93&quot;);\n",
       "      marker_28._popup.options.maxWidth = 300;\n",
       "      map.addLayer(marker_28)\n",
       "      \n",
       "      var marker_29_icon = L.AwesomeMarkers.icon({ icon: 'info-sign',markerColor: 'blue',prefix: 'glyphicon',extraClasses: 'fa-rotate-0'});\n",
       "      var marker_29 = L.marker([37.7864402365, \n",
       "\t\t\t\t\t\t\t-122.454637397],\n",
       "\t\t\t\t\t\t\t{'icon':marker_29_icon}\n",
       "\t\t\t\t\t\t\t);\n",
       "      marker_29.bindPopup(&quot;Presidio Heights: accuracy = 0.84&quot;);\n",
       "      marker_29._popup.options.maxWidth = 300;\n",
       "      map.addLayer(marker_29)\n",
       "      \n",
       "      var marker_30_icon = L.AwesomeMarkers.icon({ icon: 'info-sign',markerColor: 'blue',prefix: 'glyphicon',extraClasses: 'fa-rotate-0'});\n",
       "      var marker_30 = L.marker([37.778690652, \n",
       "\t\t\t\t\t\t\t-122.40237554],\n",
       "\t\t\t\t\t\t\t{'icon':marker_30_icon}\n",
       "\t\t\t\t\t\t\t);\n",
       "      marker_30.bindPopup(&quot;South of Market: accuracy = 0.84&quot;);\n",
       "      marker_30._popup.options.maxWidth = 300;\n",
       "      map.addLayer(marker_30)\n",
       "      \n",
       "      var marker_31_icon = L.AwesomeMarkers.icon({ icon: 'info-sign',markerColor: 'blue',prefix: 'glyphicon',extraClasses: 'fa-rotate-0'});\n",
       "      var marker_31 = L.marker([37.7377363595, \n",
       "\t\t\t\t\t\t\t-122.432065934],\n",
       "\t\t\t\t\t\t\t{'icon':marker_31_icon}\n",
       "\t\t\t\t\t\t\t);\n",
       "      marker_31.bindPopup(&quot;Glen Park: accuracy = 0.89&quot;);\n",
       "      marker_31._popup.options.maxWidth = 300;\n",
       "      map.addLayer(marker_31)\n",
       "      \n",
       "      var marker_32_icon = L.AwesomeMarkers.icon({ icon: 'info-sign',markerColor: 'blue',prefix: 'glyphicon',extraClasses: 'fa-rotate-0'});\n",
       "      var marker_32 = L.marker([37.7582684335, \n",
       "\t\t\t\t\t\t\t-122.392756387],\n",
       "\t\t\t\t\t\t\t{'icon':marker_32_icon}\n",
       "\t\t\t\t\t\t\t);\n",
       "      marker_32.bindPopup(&quot;Potrero Hill: accuracy = 0.85&quot;);\n",
       "      marker_32._popup.options.maxWidth = 300;\n",
       "      map.addLayer(marker_32)\n",
       "      \n",
       "      var marker_33_icon = L.AwesomeMarkers.icon({ icon: 'info-sign',markerColor: 'blue',prefix: 'glyphicon',extraClasses: 'fa-rotate-0'});\n",
       "      var marker_33 = L.marker([37.7625197235, \n",
       "\t\t\t\t\t\t\t-122.436191886],\n",
       "\t\t\t\t\t\t\t{'icon':marker_33_icon}\n",
       "\t\t\t\t\t\t\t);\n",
       "      marker_33.bindPopup(&quot;Castro/Upper Market: accuracy = 0.80&quot;);\n",
       "      marker_33._popup.options.maxWidth = 300;\n",
       "      map.addLayer(marker_33)\n",
       "      \n",
       "      var marker_34_icon = L.AwesomeMarkers.icon({ icon: 'info-sign',markerColor: 'blue',prefix: 'glyphicon',extraClasses: 'fa-rotate-0'});\n",
       "      var marker_34 = L.marker([37.7532497415, \n",
       "\t\t\t\t\t\t\t-122.451212554],\n",
       "\t\t\t\t\t\t\t{'icon':marker_34_icon}\n",
       "\t\t\t\t\t\t\t);\n",
       "      marker_34.bindPopup(&quot;Twin Peaks: accuracy = 0.84&quot;);\n",
       "      marker_34._popup.options.maxWidth = 300;\n",
       "      map.addLayer(marker_34)\n",
       "      \n",
       "      var marker_35_icon = L.AwesomeMarkers.icon({ icon: 'info-sign',markerColor: 'blue',prefix: 'glyphicon',extraClasses: 'fa-rotate-0'});\n",
       "      var marker_35 = L.marker([37.7404297155, \n",
       "\t\t\t\t\t\t\t-122.419587349],\n",
       "\t\t\t\t\t\t\t{'icon':marker_35_icon}\n",
       "\t\t\t\t\t\t\t);\n",
       "      marker_35.bindPopup(&quot;Bernal Heights: accuracy = 0.84&quot;);\n",
       "      marker_35._popup.options.maxWidth = 300;\n",
       "      map.addLayer(marker_35)\n",
       "      \n",
       "      var marker_36_icon = L.AwesomeMarkers.icon({ icon: 'info-sign',markerColor: 'blue',prefix: 'glyphicon',extraClasses: 'fa-rotate-0'});\n",
       "      var marker_36 = L.marker([37.7940915605, \n",
       "\t\t\t\t\t\t\t-122.407162254],\n",
       "\t\t\t\t\t\t\t{'icon':marker_36_icon}\n",
       "\t\t\t\t\t\t\t);\n",
       "      marker_36.bindPopup(&quot;Chinatown: accuracy = 0.84&quot;);\n",
       "      marker_36._popup.options.maxWidth = 300;\n",
       "      map.addLayer(marker_36)\n",
       "      \n",
       "      var marker_37_icon = L.AwesomeMarkers.icon({ icon: 'info-sign',markerColor: 'blue',prefix: 'glyphicon',extraClasses: 'fa-rotate-0'});\n",
       "      var marker_37 = L.marker([37.8047171615, \n",
       "\t\t\t\t\t\t\t-122.40820963],\n",
       "\t\t\t\t\t\t\t{'icon':marker_37_icon}\n",
       "\t\t\t\t\t\t\t);\n",
       "      marker_37.bindPopup(&quot;North Beach: accuracy = 0.87&quot;);\n",
       "      marker_37._popup.options.maxWidth = 300;\n",
       "      map.addLayer(marker_37)\n",
       "      \n",
       "\n",
       "      \n",
       "\n",
       "      \n",
       "\n",
       "      \n",
       "\n",
       "      \n",
       "\n",
       "      \n",
       "\n",
       "   </script>\n",
       "\n",
       "</body>\" style=\"width: 1000px; height: 600px; border: none\"></iframe>"
      ],
      "text/plain": [
       "<IPython.core.display.HTML object>"
      ]
     },
     "execution_count": 21,
     "metadata": {},
     "output_type": "execute_result"
    }
   ],
   "source": [
    "df = results_rf.select(\"neighborhood\", \"label\", \"prediction\").toPandas()\n",
    "map_sf = folium.Map(location=[sf_lat, sf_long], zoom_start=12, width=map_width, height=map_height)\n",
    "\n",
    "n_list = results_rf.select(\"neighborhood\").distinct().toPandas()['neighborhood'].tolist()  # list of neighborhoods\n",
    "for n in df_centroid.collect():\n",
    "    if n.neighborhood in n_list:\n",
    "        m = eval_metrics(df[df['neighborhood']==n.neighborhood])\n",
    "        map_sf.simple_marker([n.cent_latitude, n.cent_longitude], \\\n",
    "                             popup = n.neighborhood + \": accuracy = %.2f\" % m['accuracy'])\n",
    "\n",
    "inline_map(map_sf) "
   ]
  }
 ],
 "metadata": {
  "kernelspec": {
   "display_name": "Python 2",
   "language": "python",
   "name": "python2"
  },
  "language_info": {
   "codemirror_mode": {
    "name": "ipython",
    "version": 2
   },
   "file_extension": ".py",
   "mimetype": "text/x-python",
   "name": "python",
   "nbconvert_exporter": "python",
   "pygments_lexer": "ipython2",
   "version": "2.7.9"
  }
 },
 "nbformat": 4,
 "nbformat_minor": 0
}
