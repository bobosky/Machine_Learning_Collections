{
 "cells": [
  {
   "cell_type": "markdown",
   "metadata": {},
   "source": [
    "A very simple linear regression example running on Google's TensorFlow"
   ]
  },
  {
   "cell_type": "code",
   "execution_count": 16,
   "metadata": {
    "collapsed": false
   },
   "outputs": [
    {
     "name": "stdout",
     "output_type": "stream",
     "text": [
      "3.06984\n"
     ]
    }
   ],
   "source": [
    "import numpy as np\n",
    "import tensorflow as tf\n",
    "\n",
    "# initialize x and y\n",
    "X = np.linspace(0,1,100)\n",
    "Y = x * 3 + 0.05\n",
    "\n",
    "# create corresponding tensorflow variables\n",
    "tfX = tf.placeholder(\"float\")\n",
    "tfY = tf.placeholder(\"float\")\n",
    "w = tf.Variable(0.0) \n",
    "yModel = tf.mul(tfX,w)\n",
    "cost = (tf.pow(tfY-yModel, 2))\n",
    "\n",
    "train_opt = tf.train.GradientDescentOptimizer(0.01).minimize(cost)\n",
    "\n",
    "sess = tf.Session()\n",
    "init = tf.initialize_all_variables()\n",
    "sess.run(init)\n",
    "\n",
    "for i in range(100):\n",
    "    for (x, y) in zip(X, Y):\n",
    "        sess.run(train_opt, feed_dict={tfX: x, tfY: y})\n",
    "\n",
    "print(sess.run(w)) \n"
   ]
  },
  {
   "cell_type": "code",
   "execution_count": null,
   "metadata": {
    "collapsed": true
   },
   "outputs": [],
   "source": []
  }
 ],
 "metadata": {
  "kernelspec": {
   "display_name": "Python 2",
   "language": "python",
   "name": "python2"
  },
  "language_info": {
   "codemirror_mode": {
    "name": "ipython",
    "version": 2
   },
   "file_extension": ".py",
   "mimetype": "text/x-python",
   "name": "python",
   "nbconvert_exporter": "python",
   "pygments_lexer": "ipython2",
   "version": "2.7.6"
  }
 },
 "nbformat": 4,
 "nbformat_minor": 0
}
