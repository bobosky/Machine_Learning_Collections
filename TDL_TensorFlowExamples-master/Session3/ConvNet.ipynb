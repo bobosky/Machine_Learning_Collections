{
 "cells": [
  {
   "cell_type": "markdown",
   "metadata": {},
   "source": [
    "# Convolutional Neural Networks"
   ]
  },
  {
   "cell_type": "markdown",
   "metadata": {},
   "source": [
    "## set up"
   ]
  },
  {
   "cell_type": "markdown",
   "metadata": {},
   "source": [
    "First upgrade to v 0.6.0\n",
    "``` bash\n",
    "pip install --upgrade https://storage.googleapis.com/tensorflow/mac/tensorflow-0.6.0-py2-none-any.whl```"
   ]
  },
  {
   "cell_type": "markdown",
   "metadata": {},
   "source": [
    "## DIY Demo"
   ]
  },
  {
   "cell_type": "markdown",
   "metadata": {},
   "source": [
    "<img src=\"tf/highres_444712191.jpeg\">"
   ]
  },
  {
   "cell_type": "code",
   "execution_count": null,
   "metadata": {
    "collapsed": false
   },
   "outputs": [],
   "source": [
    "!python tf/classify_image.py --image_file tf/highres_444712191.jpeg"
   ]
  },
  {
   "cell_type": "markdown",
   "metadata": {},
   "source": [
    "# How does it work?\n",
    "http://cs231n.github.io"
   ]
  },
  {
   "cell_type": "markdown",
   "metadata": {},
   "source": [
    "#### Overview\n",
    "\n",
    "##### Neural net:\n",
    "\n",
    "<img src=\"http://cs231n.github.io/assets/nn1/neural_net2.jpeg\">\n",
    "\n",
    "##### ConvNet:\n",
    "\n",
    "<img src=\"http://cs231n.github.io/assets/cnn/cnn.jpeg\">\n",
    "\n"
   ]
  },
  {
   "cell_type": "markdown",
   "metadata": {},
   "source": [
    "\n"
   ]
  },
  {
   "cell_type": "markdown",
   "metadata": {},
   "source": [
    "# A typical ConvNet\n",
    "\n",
    "**Basic:**\n",
    "\n",
    "INPUT -> [[CONV - RELU] -> POOL] -> FC\n"
   ]
  },
  {
   "cell_type": "markdown",
   "metadata": {},
   "source": [
    "### 1) INPUT: \n",
    "raw pixel values of the image. eg: 32 x 32 x 3\n",
    "\n",
    "### 2) CONV: \n",
    "convolution of the input and the weights. increases the depth, eg: 32 x 32 x 12\n",
    "\n",
    "### 3) RELU (rectified linear unit):  <img src=\"https://upload.wikimedia.org/math/9/d/b/9db6867e7cad45ba0853963a952a0fbc.png\">\n",
    "elementwise activation function. doesn't change the size.\n",
    "\n",
    "### 4) POOL:\n",
    "downsampling along the spatial dimensions. eg: 16 x 16 x 12\n",
    "\n",
    "### 5) FC: \n",
    "fully-connected layer. compute the class scores. shrinks the volume into 1 x 1 x N (N is a large number eg 1024)"
   ]
  },
  {
   "cell_type": "markdown",
   "metadata": {},
   "source": [
    "**Deep: **\n",
    "\n",
    "INPUT -> [[CONV -> RELU] x N -> POOL?] x M -> [FC -> RELU] x K -> FC \n",
    "\n"
   ]
  },
  {
   "cell_type": "markdown",
   "metadata": {},
   "source": [
    "## Convolutional Layer:\n",
    "A set of learnable filters.  spatially small, but extends through the full depth of the input volume.\n",
    " \n",
    " \n",
    " \n",
    "<img src=\"http://cs231n.github.io/assets/cnn/depthcol.jpeg\">\n",
    "\n",
    "<img src=\"http://cs231n.github.io/assets/nn1/neuron_model.jpeg\">\n",
    "\n"
   ]
  },
  {
   "cell_type": "markdown",
   "metadata": {},
   "source": [
    "#### Spatial arrangement:\n",
    "**Depth:**  number of neurons in the CONV layer that connect to the same region of the input volume.\n",
    "\n",
    "**stride:** spatial shift  \n",
    "\n",
    "**zero-padding:** pad the input with zeros on the border. \n",
    "\n",
    "\n",
    "**output size**: **(W − F + 2P )/S + 1** \n",
    "* input volume size (**W**), \n",
    "* Conv Layer filter size  (**F**), \n",
    "* stride (**S**), \n",
    "* zero padding (**P**) \n",
    "\n",
    "***EXAMPLE***\n",
    "\n",
    "<img src=\"http://cs231n.github.io/assets/cnn/stride.jpeg\">\n",
    "\n",
    "\n",
    "\n",
    "In the example above: (5−3+2)/1+1 = 5\n",
    "\n"
   ]
  },
  {
   "cell_type": "markdown",
   "metadata": {},
   "source": [
    "#### How it works\n",
    "\n",
    "<img src=\"tf/conv.png\">"
   ]
  },
  {
   "cell_type": "markdown",
   "metadata": {},
   "source": [
    "## Pooling Layer"
   ]
  },
  {
   "cell_type": "markdown",
   "metadata": {},
   "source": [
    "<img src=\"http://cs231n.github.io/assets/cnn/maxpool.jpeg\">"
   ]
  },
  {
   "cell_type": "markdown",
   "metadata": {},
   "source": [
    "<img src=\"http://cs231n.github.io/assets/cnn/pool.jpeg\">"
   ]
  },
  {
   "cell_type": "markdown",
   "metadata": {},
   "source": [
    "## Fully Connected Layer\n",
    "\n",
    "<img src=\"http://image.slidesharecdn.com/cikm-keynote-nov2014-141125182455-conversion-gate01/95/large-scale-deep-learning-jeff-dean-39-638.jpg\">"
   ]
  },
  {
   "cell_type": "markdown",
   "metadata": {},
   "source": [
    "## ConvNet Architectures\n"
   ]
  },
  {
   "cell_type": "markdown",
   "metadata": {},
   "source": [
    "**INPUT -> [[CONV -> RELU] x N -> POOL?] x M -> [FC -> RELU] x K -> FC**\n",
    "\n",
    "N >= 0 (and usually N <= 3), \n",
    "\n",
    "M >= 0, K >= 0 (and usually K < 3). \n",
    "\n",
    "*Common patterns*:\n",
    "\n",
    "* INPUT -> FC,  linear classifier.\n",
    "* INPUT -> CONV -> RELU -> FC\n",
    "* INPUT -> [CONV -> RELU -> POOL] x 2 -> FC -> RELU -> FC.   **We will build this**\n",
    "* INPUT -> [CONV -> RELU -> CONV -> RELU -> POOL] x 3 -> [FC -> RELU] x 2 -> FC "
   ]
  },
  {
   "cell_type": "markdown",
   "metadata": {},
   "source": [
    "# Let's do it ourselves"
   ]
  },
  {
   "cell_type": "markdown",
   "metadata": {},
   "source": [
    "# Recap: A Simple Logistic Regression"
   ]
  },
  {
   "cell_type": "code",
   "execution_count": 5,
   "metadata": {
    "cellView": null,
    "collapsed": false,
    "executionInfo": null
   },
   "outputs": [
    {
     "name": "stdout",
     "output_type": "stream",
     "text": [
      "Successfully downloaded train-images-idx3-ubyte.gz 9912422 bytes.\n",
      "Extracting MNIST_data/train-images-idx3-ubyte.gz\n",
      "Successfully downloaded train-labels-idx1-ubyte.gz 28881 bytes.\n",
      "Extracting MNIST_data/train-labels-idx1-ubyte.gz\n",
      "Successfully downloaded t10k-images-idx3-ubyte.gz 1648877 bytes.\n",
      "Extracting MNIST_data/t10k-images-idx3-ubyte.gz\n",
      "Successfully downloaded t10k-labels-idx1-ubyte.gz 4542 bytes.\n",
      "Extracting MNIST_data/t10k-labels-idx1-ubyte.gz\n"
     ]
    }
   ],
   "source": [
    "# Load MNIST Data\n",
    "import tensorflow as tf\n",
    "\n",
    "\n",
    "from tensorflow.examples.tutorials.mnist import input_data\n",
    "mnist = input_data.read_data_sets('MNIST_data', one_hot=True)"
   ]
  },
  {
   "cell_type": "code",
   "execution_count": 6,
   "metadata": {
    "cellView": null,
    "collapsed": true,
    "executionInfo": null
   },
   "outputs": [],
   "source": [
    "# Start an interactive session\n",
    "\n",
    "import tensorflow as tf\n",
    "sess = tf.InteractiveSession()\n"
   ]
  },
  {
   "cell_type": "code",
   "execution_count": 7,
   "metadata": {
    "cellView": null,
    "collapsed": true,
    "executionInfo": null
   },
   "outputs": [],
   "source": [
    "# place holders\n",
    "\n",
    "x = tf.placeholder(tf.float32, shape=[None, 784])\n",
    "y_ = tf.placeholder(tf.float32, shape=[None, 10])"
   ]
  },
  {
   "cell_type": "code",
   "execution_count": 8,
   "metadata": {
    "cellView": null,
    "collapsed": true,
    "executionInfo": null
   },
   "outputs": [],
   "source": [
    "# variables\n",
    "\n",
    "W = tf.Variable(tf.zeros([784,10]))\n",
    "b = tf.Variable(tf.zeros([10]))\n",
    "\n",
    "# intitialize\n",
    "sess.run(tf.initialize_all_variables())\n"
   ]
  },
  {
   "cell_type": "code",
   "execution_count": 9,
   "metadata": {
    "cellView": null,
    "collapsed": true,
    "executionInfo": null
   },
   "outputs": [],
   "source": [
    "# predicted class \n",
    "\n",
    "y = tf.nn.softmax(tf.matmul(x,W) + b)\n",
    "\n",
    "\n",
    "# cost function\n",
    "\n",
    "cross_entropy = -tf.reduce_sum(y_*tf.log(y))\n"
   ]
  },
  {
   "cell_type": "code",
   "execution_count": 10,
   "metadata": {
    "cellView": null,
    "collapsed": true,
    "executionInfo": null
   },
   "outputs": [],
   "source": [
    "# train the model\n",
    "\n",
    "train_step = tf.train.GradientDescentOptimizer(0.01).minimize(cross_entropy)\n",
    "\n",
    "for i in range(1000):\n",
    "  batch = mnist.train.next_batch(50)\n",
    "  train_step.run(feed_dict={x: batch[0], y_: batch[1]})"
   ]
  },
  {
   "cell_type": "code",
   "execution_count": 11,
   "metadata": {
    "cellView": null,
    "collapsed": true,
    "executionInfo": null
   },
   "outputs": [],
   "source": [
    "# evaluate\n",
    "\n",
    "correct_prediction = tf.equal(tf.argmax(y,1), tf.argmax(y_,1))\n"
   ]
  },
  {
   "cell_type": "markdown",
   "metadata": {},
   "source": [
    "#  Multilayer Convolutional Network"
   ]
  },
  {
   "cell_type": "code",
   "execution_count": 12,
   "metadata": {
    "cellView": null,
    "collapsed": true,
    "executionInfo": null
   },
   "outputs": [],
   "source": [
    "# initialize weights\n",
    "\n",
    "def weight_variable(shape):\n",
    "  initial = tf.truncated_normal(shape, stddev=0.1)\n",
    "  return tf.Variable(initial)\n",
    "\n",
    "def bias_variable(shape):\n",
    "  initial = tf.constant(0.1, shape=shape)\n",
    "  return tf.Variable(initial)\n"
   ]
  },
  {
   "cell_type": "code",
   "execution_count": 13,
   "metadata": {
    "cellView": null,
    "collapsed": true,
    "executionInfo": null
   },
   "outputs": [],
   "source": [
    "# Convolution and Pooling\n",
    "\n",
    "def conv2d(x, W):\n",
    "  return tf.nn.conv2d(x, W, strides=[1, 1, 1, 1], padding='SAME')\n",
    "\n",
    "def max_pool_2x2(x):\n",
    "  return tf.nn.max_pool(x, ksize=[1, 2, 2, 1],\n",
    "                        strides=[1, 2, 2, 1], padding='SAME')\n"
   ]
  },
  {
   "cell_type": "code",
   "execution_count": 14,
   "metadata": {
    "cellView": null,
    "collapsed": false,
    "executionInfo": null
   },
   "outputs": [
    {
     "data": {
      "text/plain": [
       "'\\n5x5 patch\\n32 features\\n'"
      ]
     },
     "execution_count": 14,
     "metadata": {},
     "output_type": "execute_result"
    }
   ],
   "source": [
    "# first convolutional layer\n",
    "\n",
    "W_conv1 = weight_variable([5, 5, 1, 32])\n",
    "b_conv1 = bias_variable([32])\n",
    "\n",
    "\"\"\"\n",
    "5x5 patch\n",
    "32 features\n",
    "\"\"\""
   ]
  },
  {
   "cell_type": "code",
   "execution_count": 15,
   "metadata": {
    "cellView": null,
    "collapsed": true,
    "executionInfo": null
   },
   "outputs": [],
   "source": [
    "# reshape  x to a 4d tensor\n",
    "\n",
    "x_image = tf.reshape(x, [-1,28,28,1])\n"
   ]
  },
  {
   "cell_type": "code",
   "execution_count": 16,
   "metadata": {
    "cellView": null,
    "collapsed": true,
    "executionInfo": null
   },
   "outputs": [],
   "source": [
    "# multiply by the weight \n",
    "\n",
    "h_conv1 = tf.nn.relu(conv2d(x_image, W_conv1) + b_conv1)\n",
    "h_pool1 = max_pool_2x2(h_conv1)\n"
   ]
  },
  {
   "cell_type": "code",
   "execution_count": 17,
   "metadata": {
    "cellView": null,
    "collapsed": true,
    "executionInfo": null
   },
   "outputs": [],
   "source": [
    "# Second Layer\n",
    "\n",
    "W_conv2 = weight_variable([5, 5, 32, 64])\n",
    "b_conv2 = bias_variable([64])\n",
    "\n",
    "h_conv2 = tf.nn.relu(conv2d(h_pool1, W_conv2) + b_conv2)\n",
    "h_pool2 = max_pool_2x2(h_conv2)\n",
    "\n",
    "# 64 features for each 5x5 patch"
   ]
  },
  {
   "cell_type": "code",
   "execution_count": 18,
   "metadata": {
    "cellView": null,
    "collapsed": true,
    "executionInfo": null
   },
   "outputs": [],
   "source": [
    "# fully connected layer \n",
    "\n",
    "W_fc1 = weight_variable([7 * 7 * 64, 1024])\n",
    "b_fc1 = bias_variable([1024])\n",
    "\n",
    "h_pool2_flat = tf.reshape(h_pool2, [-1, 7*7*64])\n",
    "h_fc1 = tf.nn.relu(tf.matmul(h_pool2_flat, W_fc1) + b_fc1)\n",
    "\n"
   ]
  },
  {
   "cell_type": "code",
   "execution_count": 19,
   "metadata": {
    "cellView": null,
    "collapsed": true,
    "executionInfo": null
   },
   "outputs": [],
   "source": [
    "# dropout layer\n",
    "\n",
    "keep_prob = tf.placeholder(tf.float32)\n",
    "h_fc1_drop = tf.nn.dropout(h_fc1, keep_prob)\n"
   ]
  },
  {
   "cell_type": "code",
   "execution_count": 20,
   "metadata": {
    "cellView": null,
    "collapsed": true,
    "executionInfo": null
   },
   "outputs": [],
   "source": [
    "# readout layer: softmax regression\n",
    "\n",
    "W_fc2 = weight_variable([1024, 10])\n",
    "b_fc2 = bias_variable([10])\n",
    "\n",
    "y_conv=tf.nn.softmax(tf.matmul(h_fc1_drop, W_fc2) + b_fc2)\n"
   ]
  },
  {
   "cell_type": "code",
   "execution_count": null,
   "metadata": {
    "cellView": null,
    "collapsed": false,
    "executionInfo": null
   },
   "outputs": [],
   "source": [
    "# train and evaluate\n",
    "\n",
    "cross_entropy = -tf.reduce_sum(y_*tf.log(y_conv))\n",
    "\n",
    "train_step = tf.train.AdamOptimizer(1e-4).minimize(cross_entropy)\n",
    "\n",
    "correct_prediction = tf.equal(tf.argmax(y_conv,1), tf.argmax(y_,1))\n",
    "\n",
    "accuracy = tf.reduce_mean(tf.cast(correct_prediction, tf.float32))\n",
    "\n",
    "sess.run(tf.initialize_all_variables())\n",
    "\n",
    "for i in range(1000):\n",
    "  \n",
    "  batch = mnist.train.next_batch(50)\n",
    "  \n",
    "  if i%100 == 0:\n",
    "    train_accuracy = accuracy.eval(feed_dict={\n",
    "        x:batch[0], y_: batch[1], keep_prob: 1.0})\n",
    "    print(\"step %d, training accuracy %g\"%(i, train_accuracy))\n",
    "    \n",
    "  train_step.run(feed_dict={x: batch[0], y_: batch[1], keep_prob: 0.5})\n",
    "\n",
    "print(\"test accuracy %g\"%accuracy.eval(feed_dict={\n",
    "    x: mnist.test.images, y_: mnist.test.labels, keep_prob: 1.0}))"
   ]
  },
  {
   "cell_type": "code",
   "execution_count": 22,
   "metadata": {
    "collapsed": false
   },
   "outputs": [
    {
     "name": "stdout",
     "output_type": "stream",
     "text": [
      "test accuracy 0.9631\n"
     ]
    }
   ],
   "source": [
    "print(\"test accuracy %g\"%accuracy.eval(feed_dict={\n",
    "    x: mnist.test.images, y_: mnist.test.labels, keep_prob: 1.0}))"
   ]
  },
  {
   "cell_type": "markdown",
   "metadata": {},
   "source": [
    "#  SKFlow: \n",
    "TensorFlow with sk-learn flavor!\n",
    "\n",
    "\n",
    "``` bash\n",
    "pip install git+git://github.com/tensorflow/skflow.git ```"
   ]
  },
  {
   "cell_type": "code",
   "execution_count": 33,
   "metadata": {
    "cellView": null,
    "collapsed": false,
    "executionInfo": null
   },
   "outputs": [
    {
     "name": "stdout",
     "output_type": "stream",
     "text": [
      "Extracting MNIST_data/train-images-idx3-ubyte.gz\n",
      "Extracting MNIST_data/train-labels-idx1-ubyte.gz\n",
      "Extracting MNIST_data/t10k-images-idx3-ubyte.gz\n",
      "Extracting MNIST_data/t10k-labels-idx1-ubyte.gz\n"
     ]
    }
   ],
   "source": [
    "\n",
    "import random\n",
    "from sklearn import datasets, cross_validation, metrics\n",
    "\n",
    "import tensorflow as tf\n",
    "from tensorflow.examples.tutorials.mnist import input_data\n",
    "\n",
    "import skflow\n",
    "\n",
    "### Download and load MNIST data.\n",
    "\n",
    "mnist = input_data.read_data_sets('MNIST_data')\n",
    "\n"
   ]
  },
  {
   "cell_type": "code",
   "execution_count": 36,
   "metadata": {
    "cellView": null,
    "collapsed": false,
    "executionInfo": null
   },
   "outputs": [
    {
     "name": "stdout",
     "output_type": "stream",
     "text": [
      "Step #1, avg. loss: 2.62986\n",
      "Step #101, avg. loss: 0.97821\n",
      "Step #201, avg. loss: 0.54470\n",
      "Step #301, avg. loss: 0.47226\n",
      "Step #401, avg. loss: 0.43006\n",
      "Step #501, avg. loss: 0.40804\n",
      "Step #601, epoch #1, avg. loss: 0.38521\n",
      "Step #701, epoch #1, avg. loss: 0.37848\n",
      "Step #801, epoch #1, avg. loss: 0.37203\n",
      "Step #901, epoch #1, avg. loss: 0.36297\n",
      "Accuracy: 0.912300\n"
     ]
    }
   ],
   "source": [
    "### Linear classifier.\n",
    "\n",
    "classifier = skflow.TensorFlowLinearClassifier(\n",
    "    n_classes=10, batch_size=100, steps=1000, learning_rate=0.1)\n",
    "\n",
    "classifier.fit(mnist.train.images, mnist.train.labels)\n",
    "\n",
    "score = metrics.accuracy_score(mnist.test.labels, classifier.predict(mnist.test.images))\n",
    "\n",
    "print('Accuracy: {0:f}'.format(score))\n",
    "\n"
   ]
  },
  {
   "cell_type": "code",
   "execution_count": null,
   "metadata": {
    "cellView": null,
    "collapsed": false,
    "executionInfo": null
   },
   "outputs": [
    {
     "name": "stdout",
     "output_type": "stream",
     "text": [
      "Step #1, avg. loss: 3.16238\n",
      "Step #2001, epoch #3, avg. loss: 1.29067\n",
      "Step #4001, epoch #7, avg. loss: 0.39970\n",
      "Step #6001, epoch #10, avg. loss: 0.28387\n",
      "Step #8001, epoch #14, avg. loss: 0.22945\n",
      "Step #10001, epoch #18, avg. loss: 0.19442"
     ]
    }
   ],
   "source": [
    "### Convolutional network\n",
    "\n",
    "def max_pool_2x2(tensor_in):\n",
    "    return tf.nn.max_pool(tensor_in, ksize=[1, 2, 2, 1], strides=[1, 2, 2, 1],\n",
    "        padding='SAME')\n",
    "\n",
    "def conv_model(X, y):\n",
    "    X = tf.reshape(X, [-1, 28, 28, 1])\n",
    "    with tf.variable_scope('conv_layer1'):\n",
    "        h_conv1 = skflow.ops.conv2d(X, n_filters=32, filter_shape=[5, 5], \n",
    "                                    bias=True, activation=tf.nn.relu)\n",
    "        h_pool1 = max_pool_2x2(h_conv1)\n",
    "    with tf.variable_scope('conv_layer2'):\n",
    "        h_conv2 = skflow.ops.conv2d(h_pool1, n_filters=64, filter_shape=[5, 5], \n",
    "                                    bias=True, activation=tf.nn.relu)\n",
    "        h_pool2 = max_pool_2x2(h_conv2)\n",
    "        h_pool2_flat = tf.reshape(h_pool2, [-1, 7 * 7 * 64])\n",
    "    h_fc1 = skflow.ops.dnn(h_pool2_flat, [1024], activation=tf.nn.relu, keep_prob=0.5)\n",
    "    return skflow.models.logistic_regression(h_fc1, y)\n",
    "\n",
    "classifier = skflow.TensorFlowEstimator(\n",
    "    model_fn=conv_model, n_classes=10, batch_size=100, steps=20000,\n",
    "    learning_rate=0.001)\n",
    "\n",
    "classifier.fit(mnist.train.images, mnist.train.labels)\n",
    "\n",
    "score = metrics.accuracy_score(mnist.test.labels, classifier.predict(mnist.test.images))\n",
    "\n",
    "print('Accuracy: {0:f}'.format(score))"
   ]
  },
  {
   "cell_type": "code",
   "execution_count": null,
   "metadata": {
    "collapsed": true
   },
   "outputs": [],
   "source": []
  }
 ],
 "metadata": {
  "colabVersion": "0.1",
  "kernelspec": {
   "display_name": "Python 2",
   "language": "python",
   "name": "python2"
  },
  "language_info": {
   "codemirror_mode": {
    "name": "ipython",
    "version": 2
   },
   "file_extension": ".py",
   "mimetype": "text/x-python",
   "name": "python",
   "nbconvert_exporter": "python",
   "pygments_lexer": "ipython2",
   "version": "2.7.10"
  }
 },
 "nbformat": 4,
 "nbformat_minor": 0
}
