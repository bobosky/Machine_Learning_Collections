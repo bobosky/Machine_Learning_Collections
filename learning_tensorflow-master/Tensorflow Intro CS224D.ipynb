{
 "cells": [
  {
   "cell_type": "markdown",
   "metadata": {},
   "source": [
    "Taken from : https://www.youtube.com/watch?v=L8Y2_Cq2X5s"
   ]
  },
  {
   "cell_type": "markdown",
   "metadata": {},
   "source": [
    "## 1. What is TensorFlow ?\n",
    "\n",
    "* TensorFlow is a deep learning library recently open-sourced by Google.\n",
    "* TensorFlow provides primitves for defining functions on tensors and automatically computing their derivatives."
   ]
  },
  {
   "cell_type": "markdown",
   "metadata": {},
   "source": [
    "## 2. But what's a Tensor ?\n",
    "* Formally, tensors are multilinear maps from vector spaces to the real numbers.\n",
    "* A scalar is a tensor\n",
    "* A vector is a tensor\n",
    "* A matrix is a tensor\n",
    "* Common to have fixed basis, so a tensor can be represented as a multidimensional array of numbers."
   ]
  },
  {
   "cell_type": "markdown",
   "metadata": {},
   "source": [
    "## 3. TensorFlow vs. Numpy\n",
    "* Few people make this comparison, but TensorFlow and Numpy are quite similar. (Both are N-d array libraries!)\n",
    "* Numpy has Ndarray support, but doesn't offer methods to create tensor functions and automatically compute derivatives (+ no GPU support)."
   ]
  },
  {
   "cell_type": "markdown",
   "metadata": {},
   "source": [
    "## 4. Simple Numpy Recap "
   ]
  },
  {
   "cell_type": "code",
   "execution_count": 74,
   "metadata": {
    "collapsed": false
   },
   "outputs": [
    {
     "data": {
      "text/plain": [
       "array([ 2.,  2.])"
      ]
     },
     "execution_count": 74,
     "metadata": {},
     "output_type": "execute_result"
    }
   ],
   "source": [
    "import numpy as np\n",
    "\n",
    "a= np.zeros((2,2))\n",
    "b= np.ones((2,2))\n",
    "\n",
    "np.sum(b,axis=1)"
   ]
  },
  {
   "cell_type": "code",
   "execution_count": 75,
   "metadata": {
    "collapsed": false
   },
   "outputs": [
    {
     "data": {
      "text/plain": [
       "(2, 2)"
      ]
     },
     "execution_count": 75,
     "metadata": {},
     "output_type": "execute_result"
    }
   ],
   "source": [
    "a.shape"
   ]
  },
  {
   "cell_type": "code",
   "execution_count": 76,
   "metadata": {
    "collapsed": false
   },
   "outputs": [
    {
     "data": {
      "text/plain": [
       "array([[ 0.,  0.,  0.,  0.]])"
      ]
     },
     "execution_count": 76,
     "metadata": {},
     "output_type": "execute_result"
    }
   ],
   "source": [
    "np.reshape(a,(1,4))"
   ]
  },
  {
   "cell_type": "markdown",
   "metadata": {},
   "source": [
    "## 5. Repeat in TensorFlow"
   ]
  },
  {
   "cell_type": "code",
   "execution_count": 77,
   "metadata": {
    "collapsed": false
   },
   "outputs": [
    {
     "data": {
      "text/plain": [
       "array([[ 0.,  0.,  0.,  0.]], dtype=float32)"
      ]
     },
     "execution_count": 77,
     "metadata": {},
     "output_type": "execute_result"
    }
   ],
   "source": [
    "import tensorflow as tf\n",
    "\n",
    "sess = tf.InteractiveSession()\n",
    "\n",
    "a = tf.zeros((2,2))\n",
    "b = tf.ones((2,2))\n",
    "\n",
    "tf.reduce_sum(b,reduction_indices=1).eval()\n",
    "\n",
    "a.get_shape()\n",
    "\n",
    "tf.reshape(a, (1,4)).eval()"
   ]
  },
  {
   "cell_type": "markdown",
   "metadata": {},
   "source": [
    "## 6. TensorFlow requires explicit evaluation!\n",
    "TensorFlow computations define a computation graph that has no numerical value until evaluated!"
   ]
  },
  {
   "cell_type": "code",
   "execution_count": 78,
   "metadata": {
    "collapsed": false
   },
   "outputs": [
    {
     "name": "stdout",
     "output_type": "stream",
     "text": [
      "[[ 0.  0.]\n",
      " [ 0.  0.]]\n"
     ]
    }
   ],
   "source": [
    "a = np.zeros((2,2))\n",
    "\n",
    "ta = tf.zeros((2,2))\n",
    "\n",
    "print(a)"
   ]
  },
  {
   "cell_type": "code",
   "execution_count": 79,
   "metadata": {
    "collapsed": false
   },
   "outputs": [
    {
     "name": "stdout",
     "output_type": "stream",
     "text": [
      "Tensor(\"zeros_12:0\", shape=(2, 2), dtype=float32)\n"
     ]
    }
   ],
   "source": [
    "print(ta)"
   ]
  },
  {
   "cell_type": "code",
   "execution_count": 80,
   "metadata": {
    "collapsed": false
   },
   "outputs": [
    {
     "name": "stdout",
     "output_type": "stream",
     "text": [
      "[[ 0.  0.]\n",
      " [ 0.  0.]]\n"
     ]
    }
   ],
   "source": [
    "print(ta.eval())"
   ]
  },
  {
   "cell_type": "markdown",
   "metadata": {},
   "source": [
    "## 7. TensorFlow Session Object\n",
    "* A session object encapsulates the environment in which Tensor objects are evaluated. \n",
    "* tf.InteractiveSession() is just convenient syntactic sugar for keeping a default session open in ipython.\n",
    "* sess.run(c) is an example of a TensorFlow Fetch. \n"
   ]
  },
  {
   "cell_type": "code",
   "execution_count": 81,
   "metadata": {
    "collapsed": false
   },
   "outputs": [
    {
     "name": "stdout",
     "output_type": "stream",
     "text": [
      "30.0\n",
      "30.0\n"
     ]
    },
    {
     "name": "stderr",
     "output_type": "stream",
     "text": [
      "Exception AssertionError: AssertionError() in <bound method InteractiveSession.__del__ of <tensorflow.python.client.session.InteractiveSession object at 0x10c872450>> ignored\n"
     ]
    }
   ],
   "source": [
    "a = tf.constant(5.0)\n",
    "b = tf.constant(6.0)\n",
    "\n",
    "c = a*b\n",
    "\n",
    "with tf.Session() as sess:\n",
    "    print sess.run(c)\n",
    "    print c.eval()"
   ]
  },
  {
   "cell_type": "markdown",
   "metadata": {},
   "source": [
    "## 8. Tensorflow Computation Graph\n",
    "* Tensorflow programs are usually structured into a construction phase, that assembles a graph, and an execution phase that uses a session to execute ops in the graph\n",
    "* All computatuons add nodes to global default graph"
   ]
  },
  {
   "cell_type": "markdown",
   "metadata": {},
   "source": [
    "## 9. Tensorflow Variables\n",
    "* When you train a model you use variables to hold and update parameters. Variables are in memory buffers containing tensors.\n",
    "* All tensors we've used previously have been constant tensors, not variables.\n",
    "\n",
    "We previously printed a couple of constant variables but for tensorflow variables we cant do the same thing. We need to initalize them using tf.initialize_all_variables function."
   ]
  },
  {
   "cell_type": "code",
   "execution_count": 82,
   "metadata": {
    "collapsed": false
   },
   "outputs": [
    {
     "name": "stdout",
     "output_type": "stream",
     "text": [
      "[[ 1.  1.]\n",
      " [ 1.  1.]]\n",
      "[[ 0.  0.]\n",
      " [ 0.  0.]]\n"
     ]
    }
   ],
   "source": [
    "W1 = tf.ones((2,2))\n",
    "W2 = tf.Variable(tf.zeros((2,2)),name=\"weights\")\n",
    "\n",
    "with tf.Session() as sess:\n",
    "    print(sess.run(W1))\n",
    "    sess.run(tf.initialize_all_variables())\n",
    "    print(sess.run(W2))"
   ]
  },
  {
   "cell_type": "markdown",
   "metadata": {},
   "source": [
    "## 10. Updating Variable State"
   ]
  },
  {
   "cell_type": "code",
   "execution_count": 83,
   "metadata": {
    "collapsed": false
   },
   "outputs": [
    {
     "name": "stdout",
     "output_type": "stream",
     "text": [
      "0\n",
      "1\n",
      "2\n",
      "3\n"
     ]
    }
   ],
   "source": [
    "state = tf.Variable(0,name=\"counter\")\n",
    "\n",
    "new_value = tf.add(state,tf.constant(1)) # Roughly new_value = state + 1\n",
    "\n",
    "update = tf.assign(state,new_value) # Roughly state = new_value\n",
    "\n",
    "with tf.Session() as sess:\n",
    "    sess.run(tf.initialize_all_variables())\n",
    "    print sess.run(state)\n",
    "    for _ in range(3):\n",
    "        sess.run(update)\n",
    "        print sess.run(state)"
   ]
  },
  {
   "cell_type": "markdown",
   "metadata": {},
   "source": [
    "## 11. Fetching Variable State\n",
    "Calling sess.run(var) on a tf.Session() object retrieves its value. Can retrieve multiple variables simultaneously with sess.run([var1,var2])"
   ]
  },
  {
   "cell_type": "code",
   "execution_count": 84,
   "metadata": {
    "collapsed": false
   },
   "outputs": [
    {
     "name": "stdout",
     "output_type": "stream",
     "text": [
      "[21.0, 7.0]\n"
     ]
    }
   ],
   "source": [
    "input1 = tf.constant(3.0)\n",
    "input2 = tf.constant(2.0)\n",
    "input3 = tf.constant(5.0)\n",
    "\n",
    "intermed =tf.add(input2,input3)\n",
    "mul = tf.mul(input1,intermed)\n",
    "with tf.Session() as sess:\n",
    "    result = sess.run([mul,intermed])\n",
    "    print(result)\n"
   ]
  },
  {
   "cell_type": "markdown",
   "metadata": {},
   "source": [
    "## 12. Inputting Data\n",
    "* All previous examples have manually defined tensors. How can we input external data into TensorFlow?\n",
    "* Simple solution: Import from Numpy:"
   ]
  },
  {
   "cell_type": "code",
   "execution_count": 85,
   "metadata": {
    "collapsed": false
   },
   "outputs": [
    {
     "name": "stdout",
     "output_type": "stream",
     "text": [
      "[[ 0.  0.  0.]\n",
      " [ 0.  0.  0.]\n",
      " [ 0.  0.  0.]]\n"
     ]
    }
   ],
   "source": [
    "a = np.zeros((3,3))\n",
    "ta = tf.convert_to_tensor(a)\n",
    "with tf.Session() as sess:\n",
    "    print(sess.run(ta))"
   ]
  },
  {
   "cell_type": "markdown",
   "metadata": {},
   "source": [
    "## 13. Placeholders and Feed Dictionaries\n",
    "* Inputting data with tf.convert_to_tensor() is convenient, but doesn't scale.\n",
    "* Use tf.placeholder variables ( dummy nodes that provide entry points for data to computational graph)\n",
    "* A feed_dict is a python dictionary mapping from tf.placeholder vars ( or their names) to data ( numpy arrays, lists, etc.)"
   ]
  },
  {
   "cell_type": "code",
   "execution_count": 86,
   "metadata": {
    "collapsed": false
   },
   "outputs": [
    {
     "name": "stdout",
     "output_type": "stream",
     "text": [
      "[array([ 14.], dtype=float32)]\n"
     ]
    }
   ],
   "source": [
    "input1 = tf.placeholder(tf.float32)\n",
    "input2 = tf.placeholder(tf.float32)\n",
    "\n",
    "output = tf.mul(input1,input2)\n",
    "\n",
    "with tf.Session() as sess:\n",
    "    print sess.run([output],feed_dict={input1:[7.],input2:[2.]})"
   ]
  },
  {
   "cell_type": "markdown",
   "metadata": {},
   "source": [
    "## 14. Variable Scope\n",
    "* Complicated Tensorflow models can have hundreds of variables\n",
    "    * tf.variable_scope() provides simple name-spacing to avoid clashes\n",
    "    * tf.get_variable() creates/accesses variables from within a variable scope\n",
    "\n",
    "* Variable scope is a simple type of namespacing that adds prefixes to variable names within scope"
   ]
  },
  {
   "cell_type": "code",
   "execution_count": null,
   "metadata": {
    "collapsed": true
   },
   "outputs": [],
   "source": [
    "with tf.variable_scope(\"foo\"):\n",
    "    with tf.variable_scope(\"bar\"):\n",
    "        v = tf.get_variable(\"v\",[1])\n",
    "\n",
    "assert v.name == \"foo/bar/v:0\""
   ]
  },
  {
   "cell_type": "code",
   "execution_count": null,
   "metadata": {
    "collapsed": false
   },
   "outputs": [],
   "source": [
    "with tf.variable_scope(\"foo\"):\n",
    "    x = tf.get_variable(\"x\",[1])\n",
    "    tf.get_variable_scope().reuse_variables()\n",
    "    x1 = tf.get_variable(\"x\",[1])\n",
    "assert x1 == x"
   ]
  },
  {
   "cell_type": "markdown",
   "metadata": {},
   "source": [
    "## 15. Understanding get_variable\n",
    "* Behavior depends on whether variable reuse enabled   \n",
    "   \n",
    "* Case 1: reuse set to false\n",
    "    * Create and return new variable"
   ]
  },
  {
   "cell_type": "code",
   "execution_count": 89,
   "metadata": {
    "collapsed": true
   },
   "outputs": [],
   "source": [
    "with tf.variable_scope(\"fooo\"):\n",
    "    v = tf.get_variable(\"v\",[1])\n",
    "assert v.name == \"fooo/v:0\""
   ]
  },
  {
   "cell_type": "markdown",
   "metadata": {},
   "source": [
    "* Case 2: Variable reuse set to true\n",
    "    * Search for existing variable with given name. Raise ValueError if none found"
   ]
  },
  {
   "cell_type": "code",
   "execution_count": 90,
   "metadata": {
    "collapsed": true
   },
   "outputs": [],
   "source": [
    "with tf.variable_scope(\"foooo\"):\n",
    "    v = tf.get_variable(\"v\",[1])\n",
    "with tf.variable_scope(\"foooo\",reuse=True):\n",
    "    v1 = tf.get_variable(\"v\",[1])\n",
    "assert v1 == v"
   ]
  },
  {
   "cell_type": "markdown",
   "metadata": {},
   "source": [
    "## 16. Linear Regression in Tensorflow"
   ]
  },
  {
   "cell_type": "code",
   "execution_count": null,
   "metadata": {
    "collapsed": true
   },
   "outputs": [],
   "source": [
    "%reset"
   ]
  },
  {
   "cell_type": "code",
   "execution_count": 1,
   "metadata": {
    "collapsed": false
   },
   "outputs": [
    {
     "data": {
      "text/plain": [
       "<matplotlib.collections.PathCollection at 0x10d2be550>"
      ]
     },
     "execution_count": 1,
     "metadata": {},
     "output_type": "execute_result"
    },
    {
     "name": "stderr",
     "output_type": "stream",
     "text": [
      "/Users/halilakin/anaconda/lib/python2.7/site-packages/matplotlib/collections.py:590: FutureWarning: elementwise comparison failed; returning scalar instead, but in the future will perform elementwise comparison\n",
      "  if self._edgecolors == str('face'):\n"
     ]
    },
    {
     "data": {
      "image/png": "[encoded data removed]",
      "text/plain": [
       "<matplotlib.figure.Figure at 0x10d11fb90>"
      ]
     },
     "metadata": {},
     "output_type": "display_data"
    }
   ],
   "source": [
    "import tensorflow as tf\n",
    "import numpy as np\n",
    "import seaborn\n",
    "import matplotlib.pyplot as plt\n",
    "%matplotlib inline\n",
    "\n",
    "# Define input data\n",
    "X_data = np.arange(100,step=.1)\n",
    "y_data = X_data + 20 * np.sin(X_data/10)\n",
    "\n",
    "# Plot input data\n",
    "plt.scatter(X_data,y_data)"
   ]
  },
  {
   "cell_type": "code",
   "execution_count": 2,
   "metadata": {
    "collapsed": true
   },
   "outputs": [],
   "source": [
    "# Define data size and batch size\n",
    "n_samples = 1000\n",
    "batch_size = 100\n",
    "\n",
    "# Tensorflow is finicky about shapes, so resize\n",
    "X_data = np.reshape(X_data,(n_samples,1))\n",
    "y_data = np.reshape(y_data,(n_samples,1))\n",
    "\n",
    "# Define placeholders for input\n",
    "X = tf.placeholder(tf.float32,shape=(batch_size,1))\n",
    "y = tf.placeholder(tf.float32,shape=(batch_size,1))"
   ]
  },
  {
   "cell_type": "code",
   "execution_count": 3,
   "metadata": {
    "collapsed": false
   },
   "outputs": [],
   "source": [
    "# Define variables to be learned\n",
    "\n",
    "with tf.variable_scope(\"linear-regression\"):\n",
    "    W = tf.get_variable(\"weights\",(1,1),\n",
    "                       initializer=tf.random_normal_initializer())\n",
    "    b = tf.get_variable(\"bias\",(1,),\n",
    "                       initializer=tf.constant_initializer(0.0))\n",
    "    y_pred = tf.matmul(X,W) + b\n",
    "    loss = tf.reduce_sum((y - y_pred)**2/n_samples)"
   ]
  },
  {
   "cell_type": "code",
   "execution_count": 10,
   "metadata": {
    "collapsed": false
   },
   "outputs": [
    {
     "name": "stdout",
     "output_type": "stream",
     "text": [
      "Loss: 774.456\n",
      "Loss: 729.146\n",
      "Loss: 524.443\n",
      "Loss: 518.733\n",
      "Loss: 394.554\n"
     ]
    }
   ],
   "source": [
    "# Sample code to run one step of gradient descent\n",
    "\n",
    "opt = tf.train.AdamOptimizer()\n",
    "\n",
    "opt_operation = opt.minimize(loss)\n",
    "\n",
    "with tf.Session() as sess:\n",
    "    sess.run(tf.initialize_all_variables())\n",
    "    for i in range(500):\n",
    "        indices = np.random.choice(n_samples,batch_size)\n",
    "        X_batch, y_batch = X_data[indices], y_data[indices]\n",
    "        _, loss_val = sess.run([opt_operation,loss],feed_dict={X:X_batch, y:y_batch})\n",
    "        if i%100 ==0:\n",
    "            print \"Loss:\",loss_val\n"
   ]
  },
  {
   "cell_type": "markdown",
   "metadata": {
    "collapsed": true
   },
   "source": [
    "## 17. Tensorflow Gradient Computation\n",
    "* Tensorflow nodes in computation graph have attached gradient operations.\n",
    "* Use backpropagation to compute required gradients for all varialbes in graph"
   ]
  },
  {
   "cell_type": "markdown",
   "metadata": {},
   "source": [
    "## 18. Tensorflow gotchas/debugging\n",
    "* Convert tensors to numpy array and print\n",
    "* Tensorflow is fastidious about types and shapes. Check that types/shapes of all tensors match\n",
    "* Tensorflow api is less mature than numpy api. Many advanced numpy operations not supported yet.\n",
    "* If you are stuck try making a pure numpy implementation of forward computation\n",
    "* Then look for analog of each numpy function in tensorflow api\n",
    "* Use tf.InteractiveSession() to experiment in the shell"
   ]
  },
  {
   "cell_type": "code",
   "execution_count": null,
   "metadata": {
    "collapsed": true
   },
   "outputs": [],
   "source": []
  }
 ],
 "metadata": {
  "kernelspec": {
   "display_name": "Python 2",
   "language": "python",
   "name": "python2"
  },
  "language_info": {
   "codemirror_mode": {
    "name": "ipython",
    "version": 2
   },
   "file_extension": ".py",
   "mimetype": "text/x-python",
   "name": "python",
   "nbconvert_exporter": "python",
   "pygments_lexer": "ipython2",
   "version": "2.7.11"
  }
 },
 "nbformat": 4,
 "nbformat_minor": 0
}
